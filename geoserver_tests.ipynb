{
 "metadata": {
  "language_info": {
   "codemirror_mode": {
    "name": "ipython",
    "version": 3
   },
   "file_extension": ".py",
   "mimetype": "text/x-python",
   "name": "python",
   "nbconvert_exporter": "python",
   "pygments_lexer": "ipython3",
   "version": "3.8.8-final"
  },
  "orig_nbformat": 2,
  "kernelspec": {
   "name": "python3",
   "display_name": "Python 3.8.8 64-bit (conda)",
   "metadata": {
    "interpreter": {
     "hash": "74e9fc83dc247813ba413a4c49ca750034127ef36cb64aa21792612a63058ffe"
    }
   }
  }
 },
 "nbformat": 4,
 "nbformat_minor": 2,
 "cells": [
  {
   "cell_type": "code",
   "execution_count": null,
   "metadata": {},
   "outputs": [],
   "source": [
    "import os, subprocess, shutil, re, requests"
   ]
  },
  {
   "cell_type": "code",
   "execution_count": null,
   "metadata": {},
   "outputs": [],
   "source": [
    "os.environ['SHAPE_ENCODING'] = \"utf-8\"\n",
    "main = 'C:\\\\saprog\\\\projeto'\n",
    "os.chdir(main)\n",
    "\n",
    "def deleteAndCreateOutput():\n",
    "    print ('A limpar e criar directoria de respostas do Geoserver...')\n",
    "    outDir = os.path.join(main, 'geoserver_responses')\n",
    "    if os.path.isdir(outDir):\n",
    "        shutil.rmtree(outDir)\n",
    "    os.mkdir(outDir)\n",
    "    os.chdir(outDir)\n",
    "\n",
    "deleteAndCreateOutput()"
   ]
  },
  {
   "cell_type": "code",
   "execution_count": null,
   "metadata": {},
   "outputs": [],
   "source": [
    "# Geoserver workspaces with cURL\n",
    "command = [\"C:\\\\OSGeo4W64\\\\bin\\\\curl.exe\",\n",
    "          \"-u\", \"admin:geoserve\",\n",
    "          \"-v\", \"-XGET\", \"-H\"\n",
    "          \"'Accept: text/xml'\", \"http://localhost:8080/geoserver/rest/workspaces\",\n",
    "          \"-o\", \"workspaces_curl.xml\"]\n",
    "\n",
    "process = subprocess.Popen(command, stdout=subprocess.PIPE, stderr=subprocess.STDOUT, shell=True)\n",
    "\n",
    "for line in process.stdout:\n",
    "    line = str(line.decode('utf-8'))\n",
    "    line_txt = re.sub(\"\\r?\\n\", '', line)\n",
    "    print(line_txt)\n",
    "\n",
    "# # Geoserver workspace with requests\n",
    "# url_worksp = \"http://localhost:8080/geoserver/rest/workspaces\"\n",
    "# headers = {'Reject': 'text/xml'}\n",
    "# resp = requests.get(url_worksp,auth=('admin','geojoao3763'),headers=headers)\n",
    "# print(resp.status_code)\n",
    "# if resp.status_code == 200:\n",
    "#     file = open('workspaces.xml','w') \n",
    "#     file.write(resp.text)\n",
    "#     file.close()\n",
    "\n",
    "# # Retrieve info about a defined workspace within Geoserver\n",
    "# url_worksp = \"http://localhost:8080/geoserver/rest/workspaces/tiger\"\n",
    "# headers = {'Reject': 'text/xml'}\n",
    "# resp = requests.get(url_worksp,auth=('admin','geojoao3763'),headers=headers)\n",
    "# print(resp.status_code)\n",
    "# if resp.status_code == 200:\n",
    "#     file = open('tiger_workspace.xml','w') \n",
    "#     file.write(resp.text)\n",
    "#     file.close()\n",
    "\n",
    "# # Retrieve info about a namespace\n",
    "# url_worksp = \"http://localhost:8080/geoserver/rest/namespaces\"\n",
    "# headers = {'Reject': 'text/xml'}\n",
    "# resp = requests.get(url_worksp,auth=('admin','geojoao3763'),headers=headers)\n",
    "# print(resp.status_code)\n",
    "# if resp.status_code == 200:\n",
    "#     file = open('namespaces.xml','w') \n",
    "#     file.write(resp.text)\n",
    "#     file.close()\n",
    "\n",
    "# # Retrieve info about a single namespace\n",
    "# url_worksp = \"http://localhost:8080/geoserver/rest/namespaces/tiger\"\n",
    "# headers = {'Reject': 'text/xml'}\n",
    "# resp = requests.get(url_worksp,auth=('admin','geoserver'),headers=headers)\n",
    "# print(resp.status_code)\n",
    "# if resp.status_code == 200:\n",
    "#     file = open('tiger_namespace.xml','w')\n",
    "#     file.write(resp.text)\n",
    "#     file.close()"
   ]
  },
  {
   "cell_type": "code",
   "execution_count": 67,
   "metadata": {},
   "outputs": [
    {
     "output_type": "execute_result",
     "data": {
      "text/plain": [
       "0"
      ]
     },
     "metadata": {},
     "execution_count": 67
    }
   ],
   "source": [
    "# # Creating new namespace using cULR\n",
    "# command = [\"C:\\\\OSGeo4W64\\\\bin\\\\curl.exe\", \"-u\", \"admin:geojoao\", \"-v\",\n",
    "#           \"-POST\", \"-H\", \"\\\"Content-type: text/json\\\"\",\n",
    "#           \"-d\", \"\\\"<workspace><name>resttest</name></workspace>\\\"\",\n",
    "#           \"http://localhost:8080/geoserver/rest/workspaces\"]\n",
    "\n",
    "#funcionou!! alternativa ao cURL\n",
    "merda = 'merda'\n",
    "os.system('C:\\\\OSGeo4W64\\\\bin\\\\curl.exe -u admin:geojoao -v -POST -H \"Content-type: text/xml\" -d \"<workspace><name>{}</name></workspace>\" http://localhost:8080/geoserver/rest/workspaces'.format(merda))\n",
    "\n",
    "# for i in command:\n",
    "#     print(i)\n",
    "\n",
    "# # subprocess.Popen(command, stdout=subprocess.PIPE, stderr=subprocess.STDOUT, shell=True)\n",
    "\n",
    "# process = subprocess.Popen(command, stdout=subprocess.PIPE, stderr=subprocess.STDOUT, shell=True)\n",
    "\n",
    "# for line in process.stdout:\n",
    "#     line = str(line.decode('utf-8'))\n",
    "#     line_txt = re.sub(\"\\r?\\n\", '', line)\n",
    "#     print(line_txt)\n",
    "\n",
    "\n",
    "# myUrl = 'http://localhost:8080/geoserver/rest/namespaces' \n",
    "# headers = {'Content-type': 'text/json'} \n",
    "# file = open('request_body.json','r') \n",
    "# payload = file.read() \n",
    "# resp = requests.post(myUrl, auth=('admin','geoserver'), data=payload, headers=headers) \n",
    "# print(resp.status_code) \n",
    "\n",
    "# print('\\\"just display and\\\"')"
   ]
  },
  {
   "cell_type": "code",
   "execution_count": null,
   "metadata": {},
   "outputs": [],
   "source": [
    "# # Criou workspace pela linha de comandos\n",
    "# C:\\OSGeo4W64\\bin\\curl.exe -u admin:geojoao -v -POST -H \"Content-type: text/xml\" -d \"<workspace><name>resttest</name></workspace>\" http://localhost:8080/geoserver/rest/workspaces\n",
    "\n",
    "# C:\\OSGeo4W64\\bin\\curl.exe -u admin:geoserver -XGET -H \"Accept: text/xml\" http://localhost:8080/geoserver/rest/workspaces/myworkspace"
   ]
  }
 ]
}