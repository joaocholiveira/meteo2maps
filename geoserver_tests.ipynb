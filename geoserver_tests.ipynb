{
 "metadata": {
  "language_info": {
   "codemirror_mode": {
    "name": "ipython",
    "version": 3
   },
   "file_extension": ".py",
   "mimetype": "text/x-python",
   "name": "python",
   "nbconvert_exporter": "python",
   "pygments_lexer": "ipython3",
   "version": "3.8.8-final"
  },
  "orig_nbformat": 2,
  "kernelspec": {
   "name": "python3",
   "display_name": "Python 3.8.8 64-bit (conda)",
   "metadata": {
    "interpreter": {
     "hash": "74e9fc83dc247813ba413a4c49ca750034127ef36cb64aa21792612a63058ffe"
    }
   }
  }
 },
 "nbformat": 4,
 "nbformat_minor": 2,
 "cells": [
  {
   "cell_type": "code",
   "execution_count": null,
   "metadata": {},
   "outputs": [],
   "source": [
    "import os, subprocess, shutil, re, requests"
   ]
  },
  {
   "cell_type": "code",
   "execution_count": null,
   "metadata": {},
   "outputs": [],
   "source": [
    "os.environ['SHAPE_ENCODING'] = \"utf-8\"\n",
    "main = 'C:\\\\saprog\\\\projeto'\n",
    "os.chdir(main)\n",
    "\n",
    "def deleteAndCreateOutput():\n",
    "    print ('A limpar e criar directoria de respostas do Geoserver...')\n",
    "    outDir = os.path.join(main, 'geoserver_responses')\n",
    "    if os.path.isdir(outDir):\n",
    "        shutil.rmtree(outDir)\n",
    "    os.mkdir(outDir)\n",
    "    os.chdir(outDir)\n",
    "\n",
    "deleteAndCreateOutput()"
   ]
  },
  {
   "cell_type": "code",
   "execution_count": null,
   "metadata": {},
   "outputs": [],
   "source": [
    "# Geoserver workspaces with cURL\n",
    "command = [\"C:\\\\OSGeo4W64\\\\bin\\\\curl.exe\",\n",
    "          \"-u\", \"admin:geoserve\",\n",
    "          \"-v\", \"-XGET\", \"-H\"\n",
    "          \"'Accept: text/xml'\", \"http://localhost:8080/geoserver/rest/workspaces\",\n",
    "          \"-o\", \"workspaces_curl.xml\"]\n",
    "\n",
    "process = subprocess.Popen(command, stdout=subprocess.PIPE, stderr=subprocess.STDOUT, shell=True)\n",
    "\n",
    "for line in process.stdout:\n",
    "    line = str(line.decode('utf-8'))\n",
    "    line_txt = re.sub(\"\\r?\\n\", '', line)\n",
    "    print(line_txt)\n",
    "\n",
    "# Geoserver workspace with requests\n",
    "url_worksp = \"http://localhost:8080/geoserver/rest/workspaces\"\n",
    "headers = {'Reject': 'text/xml'}\n",
    "resp = requests.get(url_worksp,auth=('admin','geojoao3763'),headers=headers)\n",
    "print(resp.status_code)\n",
    "if resp.status_code == 200:\n",
    "    file = open('workspaces.xml','w') \n",
    "    file.write(resp.text)\n",
    "    file.close()\n",
    "\n",
    "# Retrieve info about a defined workspace within Geoserver (requests)\n",
    "url_worksp = \"http://localhost:8080/geoserver/rest/workspaces/tiger\"\n",
    "headers = {'Reject': 'text/xml'}\n",
    "resp = requests.get(url_worksp,auth=('admin','geojoao3763'),headers=headers)\n",
    "print(resp.status_code)\n",
    "if resp.status_code == 200:\n",
    "    file = open('tiger_workspace.xml','w') \n",
    "    file.write(resp.text)\n",
    "    file.close()\n",
    "\n",
    "# Retrieve info about a namespace (requests)\n",
    "url_worksp = \"http://localhost:8080/geoserver/rest/namespaces\"\n",
    "headers = {'Reject': 'text/xml'}\n",
    "resp = requests.get(url_worksp,auth=('admin','geojoao3763'),headers=headers)\n",
    "print(resp.status_code)\n",
    "if resp.status_code == 200:\n",
    "    file = open('namespaces.xml','w') \n",
    "    file.write(resp.text)\n",
    "    file.close()\n",
    "\n",
    "# Retrieve info about a single namespace (requests)\n",
    "url_worksp = \"http://localhost:8080/geoserver/rest/namespaces/tiger\"\n",
    "headers = {'Reject': 'text/xml'}\n",
    "resp = requests.get(url_worksp,auth=('admin','geoserver'),headers=headers)\n",
    "print(resp.status_code)\n",
    "if resp.status_code == 200:\n",
    "    file = open('tiger_namespace.xml','w')\n",
    "    file.write(resp.text)\n",
    "    file.close()"
   ]
  },
  {
   "cell_type": "code",
   "execution_count": null,
   "metadata": {
    "tags": []
   },
   "outputs": [],
   "source": [
    "# # Creating new namespace using cULR\n",
    "process = subprocess.Popen('C:\\\\OSGeo4W64\\\\bin\\\\curl.exe -u admin:geojoao -v -POST -H \"Content-type: text/xml\" -d\\\n",
    "    \"<workspace><name>teste1</name></workspace>\" http://localhost:8080/geoserver/rest/workspaces',\n",
    "    stdout=subprocess.PIPE, stderr=subprocess.STDOUT, shell=True)\n",
    "\n",
    "for line in process.stdout:\n",
    "    line = str(line.decode('utf-8'))\n",
    "    line_txt = re.sub(\"\\r?\\n\", '', line)\n",
    "    print(line_txt)\n",
    "\n",
    "#funcionou!! alternativa ao cURL com o os.system()\n",
    "workspace_name = 'teste2'\n",
    "os.system('C:\\\\OSGeo4W64\\\\bin\\\\curl.exe -u admin:geojoao -v -POST -H \"Content-type: text/xml\" -d\\\n",
    "\"<workspace><name>{}</name></workspace>\" http://localhost:8080/geoserver/rest/workspaces'.format(workspace_name))"
   ]
  },
  {
   "cell_type": "code",
   "execution_count": null,
   "metadata": {},
   "outputs": [],
   "source": [
    "# # Criou workspace pela linha de comandos\n",
    "# C:\\OSGeo4W64\\bin\\curl.exe -u admin:geojoao -v -POST -H \"Content-type: text/xml\" -d \"<workspace><name>resttest</name></workspace>\" http://localhost:8080/geoserver/rest/workspaces"
   ]
  }
 ]
}