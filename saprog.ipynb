{
 "cells": [
  {
   "cell_type": "code",
   "execution_count": null,
   "id": "pharmaceutical-moore",
   "metadata": {},
   "outputs": [],
   "source": [
    "import os, urllib.request, json, shapefile, shutil, subprocess, csv, fiona, shapely, geopandas, psycopg2, pandas\n",
    "from osgeo import gdal, ogr, osr\n",
    "from datetime import datetime"
   ]
  },
  {
   "cell_type": "code",
   "execution_count": null,
   "id": "smooth-convergence",
   "metadata": {},
   "outputs": [],
   "source": [
    "os.environ['SHAPE_ENCODING'] = \"utf-8\"\n",
    "basePath = 'C:\\\\saprog\\\\projeto'\n",
    "outputPath = 'C:\\\\saprog\\\\projeto\\\\output'\n",
    "os.chdir(basePath)\n",
    "\n",
    "def deleteAndCreateOutput():\n",
    "    print ('A limpar e criar directoria de outputs...')\n",
    "    outDir = os.path.join(basePath, 'output')\n",
    "    if os.path.isdir(outDir):\n",
    "        shutil.rmtree(outDir)\n",
    "    os.mkdir(outDir)\n",
    "\n",
    "deleteAndCreateOutput()"
   ]
  },
  {
   "cell_type": "code",
   "execution_count": null,
   "id": "impaired-herald",
   "metadata": {},
   "outputs": [],
   "source": [
    "print('A ler shapefile...')\n",
    "caop = geopandas.read_file('caop.shp',encoding='utf-8')\n",
    "# caop.plot()\n",
    "# caop.head()\n",
    "# gdf = caop.loc[caop['Concelho'] == 'Bombarral']\n",
    "# gdf.head()"
   ]
  },
  {
   "cell_type": "code",
   "execution_count": null,
   "id": "painful-officer",
   "metadata": {},
   "outputs": [],
   "source": [
    "print('A executar Dissolve...')\n",
    "distritos = caop.dissolve(by = 'Distrito')\n",
    "# distritos.plot()\n",
    "# distritos.head(1)"
   ]
  },
  {
   "cell_type": "code",
   "execution_count": null,
   "id": "honey-communication",
   "metadata": {},
   "outputs": [],
   "source": [
    "print('A extrair centroides das regiões admninistrativas...')\n",
    "shpOutput = os.path.join(outputPath, 'centroides.shp')\n",
    "\n",
    "# dataProj = distritos.to_crs(epsg = 3763)\n",
    "# centroides = dataProj.centroid\n",
    "centroides = distritos.centroid\n",
    "centroides.to_file(shpOutput, encoding='utf-8')\n",
    "# centroides.plot()\n",
    "# centroides.head()"
   ]
  },
  {
   "cell_type": "code",
   "execution_count": null,
   "id": "according-thompson",
   "metadata": {},
   "outputs": [],
   "source": [
    "coordx = centroides.x.to_dict()\n",
    "coordy = centroides.y.to_dict()\n",
    "# print(coordx)\n",
    "# print(coordy)\n",
    "\n",
    "def getCoordinates(dicX, dicY):\n",
    "    coord = [dicX, dicY]\n",
    "    coordDic = {}\n",
    "    for i in dicX.keys():\n",
    "        coordDic[i] = tuple(coordDic[i] for coordDic in coord)\n",
    "    return coordDic\n",
    "\n",
    "print('A extrair coodenadas geográficas...')\n",
    "coord = getCoordinates(coordx, coordy)"
   ]
  },
  {
   "cell_type": "code",
   "execution_count": null,
   "id": "compressed-import",
   "metadata": {},
   "outputs": [],
   "source": [
    "# Carregamento de shapefile na bd\n",
    "# command = [\"C:\\\\OSGeo4W64\\\\bin\\\\ogr2ogr.exe\",\n",
    "#           \"-f\", \"PostgreSQL\",\n",
    "#           \"PG:host=localhost user=postgres dbname=meteo password=3763\",\n",
    "#           shpOutput,\n",
    "#           \"-lco\", \"GEOMETRY_NAME=the_geom\", \"-lco\", \"FID=gid\", \"-lco\",\n",
    "#           \" PRECISION=no\", \"-nlt\", \"PROMOTE_TO_MULTI\", \"-nln\", \"centroides\", \"-overwrite\"]\n",
    "# subprocess.check_call(command)"
   ]
  },
  {
   "cell_type": "code",
   "execution_count": null,
   "id": "applicable-anthropology",
   "metadata": {},
   "outputs": [],
   "source": [
    "apiKey = '44cfad7f82ec61d3f420de3201b703d4'\n",
    "\n",
    "def getWeather(coordDic, apikey):\n",
    "    forecast = []\n",
    "    for item in coord.items():\n",
    "        lat = str(item[1][1])\n",
    "        long = str(item[1][0])\n",
    "        url = 'https://api.openweathermap.org/data/2.5/onecall?lat=' + lat + '&lon=' + long + \\\n",
    "            '&exclude=minutely,hourly,daily,alerts&appid=' + apiKey + '&units=metric'\n",
    "        with urllib.request.urlopen(url) as url:\n",
    "            data = json.loads(url.read().decode())\n",
    "            districtForecast = {}\n",
    "            districtForecast['distrito'] = item[0]\n",
    "            districtForecast['date'] = datetime.utcfromtimestamp(data.get('current').get('dt')).strftime('%d-%m-%Y')\n",
    "            districtForecast['time'] = datetime.utcfromtimestamp(data.get('current').get('dt')).strftime('%H:%M:%S')\n",
    "            main = data.get('current').get('weather')\n",
    "            for item in main:\n",
    "                districtForecast['weather_desc'] = item.get('main')\n",
    "            districtForecast['temperature'] = data.get('current').get('temp')\n",
    "            districtForecast['feels_like'] = data.get('current').get('feels_like')\n",
    "            districtForecast['pressure'] = data.get('current').get('pressure')\n",
    "            districtForecast['humidity'] = data.get('current').get('humidity')\n",
    "            districtForecast['dew_point'] = data.get('current').get('dew_point')\n",
    "            districtForecast['ultrav_index'] = data.get('current').get('uvi')\n",
    "            districtForecast['wind_speed'] = data.get('current').get('wind_speed')\n",
    "            districtForecast['wind_deg'] = data.get('current').get('wind_deg')\n",
    "\n",
    "\n",
    "            forecast.append(districtForecast)\n",
    "    return forecast\n",
    "\n",
    "df = pandas.DataFrame(getWeather(coord, apiKey))\n",
    "df.head(-1)"
   ]
  },
  {
   "cell_type": "code",
   "execution_count": null,
   "id": "german-saint",
   "metadata": {},
   "outputs": [],
   "source": [
    "#"
   ]
  }
 ],
 "metadata": {
  "kernelspec": {
   "display_name": "Python 3",
   "language": "python",
   "name": "python3"
  },
  "language_info": {
   "codemirror_mode": {
    "name": "ipython",
    "version": 3
   },
   "file_extension": ".py",
   "mimetype": "text/x-python",
   "name": "python",
   "nbconvert_exporter": "python",
   "pygments_lexer": "ipython3",
   "version": "3.8.8-final"
  }
 },
 "nbformat": 4,
 "nbformat_minor": 5
}