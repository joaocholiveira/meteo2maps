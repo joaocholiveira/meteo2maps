{
 "cells": [
  {
   "cell_type": "code",
   "execution_count": 15,
   "id": "pharmaceutical-moore",
   "metadata": {},
   "outputs": [],
   "source": [
    "import os, urllib.request, json, subprocess, geopandas, pandas, psycopg2\n",
    "from datetime import datetime"
   ]
  },
  {
   "cell_type": "code",
   "execution_count": 16,
   "id": "smooth-convergence",
   "metadata": {},
   "outputs": [
    {
     "output_type": "stream",
     "name": "stdout",
     "text": [
      "A limpar e criar directoria de outputs...\n"
     ]
    }
   ],
   "source": [
    "os.environ['SHAPE_ENCODING'] = \"utf-8\"\n",
    "basePath = 'C:\\\\saprog\\\\projeto'\n",
    "outputPath = 'C:\\\\saprog\\\\projeto\\\\output'\n",
    "os.chdir(basePath)\n",
    "\n",
    "def deleteAndCreateOutput():\n",
    "    print ('A limpar e criar directoria de outputs...')\n",
    "    outDir = os.path.join(basePath, 'output')\n",
    "    if os.path.isdir(outDir):\n",
    "        shutil.rmtree(outDir)\n",
    "    os.mkdir(outDir)\n",
    "\n",
    "deleteAndCreateOutput()"
   ]
  },
  {
   "cell_type": "code",
   "execution_count": 17,
   "id": "impaired-herald",
   "metadata": {},
   "outputs": [
    {
     "output_type": "stream",
     "name": "stdout",
     "text": [
      "A ler shapefile...\n"
     ]
    }
   ],
   "source": [
    "print('A ler shapefile...')\n",
    "caop = geopandas.read_file('caop.shp',encoding='utf-8')\n",
    "# caop.plot()\n",
    "# caop.head()\n",
    "# gdf = caop.loc[caop['Concelho'] == 'Bombarral']\n",
    "# gdf.head()"
   ]
  },
  {
   "cell_type": "code",
   "execution_count": 18,
   "id": "painful-officer",
   "metadata": {},
   "outputs": [
    {
     "output_type": "stream",
     "name": "stdout",
     "text": [
      "A executar Dissolve...\n"
     ]
    }
   ],
   "source": [
    "print('A executar Dissolve...')\n",
    "distritos = caop.dissolve(by = 'Distrito')\n",
    "# distritos.plot()\n",
    "# distritos.head(1)"
   ]
  },
  {
   "cell_type": "code",
   "execution_count": 19,
   "id": "honey-communication",
   "metadata": {},
   "outputs": [
    {
     "output_type": "stream",
     "name": "stdout",
     "text": [
      "A extrair centroides das regiões admninistrativas...\n",
      "<ipython-input-19-5a8a41490fe0>:6: UserWarning: Geometry is in a geographic CRS. Results from 'centroid' are likely incorrect. Use 'GeoSeries.to_crs()' to re-project geometries to a projected CRS before this operation.\n",
      "\n",
      "  centroides = distritos.centroid\n"
     ]
    }
   ],
   "source": [
    "print('A extrair centroides das regiões admninistrativas...')\n",
    "shpOutput = os.path.join(outputPath, 'centroides.shp')\n",
    "\n",
    "# dataProj = distritos.to_crs(epsg = 3763)\n",
    "# centroides = dataProj.centroid\n",
    "centroides = distritos.centroid\n",
    "centroides.to_file(shpOutput, encoding='utf-8')\n",
    "# centroides.plot()\n",
    "# centroides.head()"
   ]
  },
  {
   "cell_type": "code",
   "execution_count": 26,
   "id": "according-thompson",
   "metadata": {},
   "outputs": [
    {
     "output_type": "stream",
     "name": "stdout",
     "text": [
      "A extrair coodenadas geográficas...\n{'Aveiro': (-8.46838037713987, 40.7236925098494), 'Beja': (-7.94388147040214, 37.82970078780623), 'Braga': (-8.309815844734775, 41.55294943650094), 'Bragança': (-6.859336412433179, 41.509404985269676), 'Castelo Branco': (-7.5016170094379, 39.946483706164535), 'Coimbra': (-8.33590045610553, 40.204414004264905), 'Faro': (-8.13168379460421, 37.24368427672163), 'Guarda': (-7.229585420073208, 40.641320980615), 'Leiria': (-8.775241866061927, 39.717272858669155), 'Lisboa': (-9.163514891800212, 38.9967494344431), 'Portalegre': (-7.620439565448195, 39.190063045702445), 'Porto': (-8.352739071777673, 41.22479245090154), 'Santarém': (-8.477568721428257, 39.293494949281204), 'Setúbal': (-8.652857331305352, 38.318451316051366), 'Viana do Castelo': (-8.50709117586541, 41.87785654627992), 'Vila Real': (-7.631700989514108, 41.55496982213632), 'Viseu': (-7.870908401501086, 40.79887555573913), 'Évora': (-7.8417966523604, 38.603868659253635)}\n"
     ]
    }
   ],
   "source": [
    "coordx = centroides.x.to_dict()\n",
    "coordy = centroides.y.to_dict()\n",
    "# print(coordx)\n",
    "# print(coordy)\n",
    "\n",
    "def getCoordinates(dicX, dicY):\n",
    "    '''\n",
    "    Extração de coordenadas geográficas úteis ao harvest de dados meteorológicos.\n",
    "    Devolve um dicionário onde as chaves são os distritos, à qual está associado um tuplo com as coordenadas Lat Long.\n",
    "    '''\n",
    "    coord = [dicX, dicY]\n",
    "    coordDic = {}\n",
    "    for i in dicX.keys():\n",
    "        coordDic[i] = tuple(coordDic[i] for coordDic in coord)\n",
    "    return coordDic\n",
    "\n",
    "print('A extrair coodenadas geográficas...')\n",
    "coord = getCoordinates(coordx, coordy)\n",
    "print(coord)"
   ]
  },
  {
   "cell_type": "code",
   "execution_count": 21,
   "id": "compressed-import",
   "metadata": {},
   "outputs": [],
   "source": [
    "# Carregamento de shapefile na bd\n",
    "# command = [\"C:\\\\OSGeo4W64\\\\bin\\\\ogr2ogr.exe\",\n",
    "#           \"-f\", \"PostgreSQL\",\n",
    "#           \"PG:host=localhost user=postgres dbname=meteo password=3763\",\n",
    "#           shpOutput,\n",
    "#           \"-lco\", \"GEOMETRY_NAME=the_geom\", \"-lco\", \"FID=gid\", \"-lco\",\n",
    "#           \" PRECISION=no\", \"-nlt\", \"PROMOTE_TO_MULTI\", \"-nln\", \"centroides\", \"-overwrite\"]\n",
    "# subprocess.check_call(command)"
   ]
  },
  {
   "cell_type": "code",
   "execution_count": 22,
   "id": "applicable-anthropology",
   "metadata": {},
   "outputs": [
    {
     "output_type": "execute_result",
     "data": {
      "text/plain": [
       "            distrito forecast_date forecast_time weather_desc  temperature  \\\n",
       "0             Aveiro    14-03-2021      19:10:56        Clear        13.17   \n",
       "1               Beja    14-03-2021      19:10:56        Clear        18.00   \n",
       "2              Braga    14-03-2021      19:10:56        Clear        12.64   \n",
       "3           Bragança    14-03-2021      19:10:57        Clear         9.27   \n",
       "4     Castelo Branco    14-03-2021      19:10:57       Clouds         8.33   \n",
       "5            Coimbra    14-03-2021      19:10:57        Clear        12.97   \n",
       "6               Faro    14-03-2021      19:10:58        Clear        16.00   \n",
       "7             Guarda    14-03-2021      19:10:58        Clear         8.86   \n",
       "8             Leiria    14-03-2021      19:10:58        Clear        12.85   \n",
       "9             Lisboa    14-03-2021      19:10:58        Clear        13.53   \n",
       "10        Portalegre    14-03-2021      19:10:59        Clear        15.41   \n",
       "11             Porto    14-03-2021      19:10:59        Clear        13.16   \n",
       "12          Santarém    14-03-2021      19:10:59        Clear        14.46   \n",
       "13           Setúbal    14-03-2021      19:11:00        Clear        14.23   \n",
       "14  Viana do Castelo    14-03-2021      19:11:00        Clear        12.45   \n",
       "15         Vila Real    14-03-2021      19:11:00        Clear        11.11   \n",
       "16             Viseu    14-03-2021      19:11:00       Clouds         9.86   \n",
       "\n",
       "    feels_like  pressure  humidity  dew_point  ultrav_index  wind_speed  \\\n",
       "0         8.16      1026        88      11.23             0        7.72   \n",
       "1        14.17      1023        45       5.90             0        4.12   \n",
       "2         8.27      1026        82       9.65             0        6.17   \n",
       "3         7.53      1026        68       3.68             0        0.52   \n",
       "4         4.99      1023        53      -0.60             0        1.79   \n",
       "5         9.91      1023        89      11.20             0        4.92   \n",
       "6        13.43      1022        72      10.96             0        4.12   \n",
       "7         5.59      1023        53      -0.17             0        1.79   \n",
       "8         9.32      1026        76       8.73             0        4.63   \n",
       "9        12.94      1025        79       9.96             0        0.89   \n",
       "10       15.19      1023        71      10.18             0        0.45   \n",
       "11        8.47      1013        74       8.63             0        6.26   \n",
       "12       12.94      1022        63       7.51             0        1.34   \n",
       "13       10.84      1025        72       9.26             0        4.63   \n",
       "14        9.67      1028        71       7.34             0        3.09   \n",
       "15        8.68      1029        72       6.26             0        2.24   \n",
       "16        7.91      1026        59       2.23             0        0.45   \n",
       "\n",
       "    wind_deg  \n",
       "0        350  \n",
       "1         30  \n",
       "2        340  \n",
       "3          3  \n",
       "4        193  \n",
       "5          7  \n",
       "6        270  \n",
       "7        193  \n",
       "8        360  \n",
       "9        203  \n",
       "10       243  \n",
       "11       340  \n",
       "12       279  \n",
       "13       340  \n",
       "14       360  \n",
       "15        41  \n",
       "16        72  "
      ],
      "text/html": "<div>\n<style scoped>\n    .dataframe tbody tr th:only-of-type {\n        vertical-align: middle;\n    }\n\n    .dataframe tbody tr th {\n        vertical-align: top;\n    }\n\n    .dataframe thead th {\n        text-align: right;\n    }\n</style>\n<table border=\"1\" class=\"dataframe\">\n  <thead>\n    <tr style=\"text-align: right;\">\n      <th></th>\n      <th>distrito</th>\n      <th>forecast_date</th>\n      <th>forecast_time</th>\n      <th>weather_desc</th>\n      <th>temperature</th>\n      <th>feels_like</th>\n      <th>pressure</th>\n      <th>humidity</th>\n      <th>dew_point</th>\n      <th>ultrav_index</th>\n      <th>wind_speed</th>\n      <th>wind_deg</th>\n    </tr>\n  </thead>\n  <tbody>\n    <tr>\n      <th>0</th>\n      <td>Aveiro</td>\n      <td>14-03-2021</td>\n      <td>19:10:56</td>\n      <td>Clear</td>\n      <td>13.17</td>\n      <td>8.16</td>\n      <td>1026</td>\n      <td>88</td>\n      <td>11.23</td>\n      <td>0</td>\n      <td>7.72</td>\n      <td>350</td>\n    </tr>\n    <tr>\n      <th>1</th>\n      <td>Beja</td>\n      <td>14-03-2021</td>\n      <td>19:10:56</td>\n      <td>Clear</td>\n      <td>18.00</td>\n      <td>14.17</td>\n      <td>1023</td>\n      <td>45</td>\n      <td>5.90</td>\n      <td>0</td>\n      <td>4.12</td>\n      <td>30</td>\n    </tr>\n    <tr>\n      <th>2</th>\n      <td>Braga</td>\n      <td>14-03-2021</td>\n      <td>19:10:56</td>\n      <td>Clear</td>\n      <td>12.64</td>\n      <td>8.27</td>\n      <td>1026</td>\n      <td>82</td>\n      <td>9.65</td>\n      <td>0</td>\n      <td>6.17</td>\n      <td>340</td>\n    </tr>\n    <tr>\n      <th>3</th>\n      <td>Bragança</td>\n      <td>14-03-2021</td>\n      <td>19:10:57</td>\n      <td>Clear</td>\n      <td>9.27</td>\n      <td>7.53</td>\n      <td>1026</td>\n      <td>68</td>\n      <td>3.68</td>\n      <td>0</td>\n      <td>0.52</td>\n      <td>3</td>\n    </tr>\n    <tr>\n      <th>4</th>\n      <td>Castelo Branco</td>\n      <td>14-03-2021</td>\n      <td>19:10:57</td>\n      <td>Clouds</td>\n      <td>8.33</td>\n      <td>4.99</td>\n      <td>1023</td>\n      <td>53</td>\n      <td>-0.60</td>\n      <td>0</td>\n      <td>1.79</td>\n      <td>193</td>\n    </tr>\n    <tr>\n      <th>5</th>\n      <td>Coimbra</td>\n      <td>14-03-2021</td>\n      <td>19:10:57</td>\n      <td>Clear</td>\n      <td>12.97</td>\n      <td>9.91</td>\n      <td>1023</td>\n      <td>89</td>\n      <td>11.20</td>\n      <td>0</td>\n      <td>4.92</td>\n      <td>7</td>\n    </tr>\n    <tr>\n      <th>6</th>\n      <td>Faro</td>\n      <td>14-03-2021</td>\n      <td>19:10:58</td>\n      <td>Clear</td>\n      <td>16.00</td>\n      <td>13.43</td>\n      <td>1022</td>\n      <td>72</td>\n      <td>10.96</td>\n      <td>0</td>\n      <td>4.12</td>\n      <td>270</td>\n    </tr>\n    <tr>\n      <th>7</th>\n      <td>Guarda</td>\n      <td>14-03-2021</td>\n      <td>19:10:58</td>\n      <td>Clear</td>\n      <td>8.86</td>\n      <td>5.59</td>\n      <td>1023</td>\n      <td>53</td>\n      <td>-0.17</td>\n      <td>0</td>\n      <td>1.79</td>\n      <td>193</td>\n    </tr>\n    <tr>\n      <th>8</th>\n      <td>Leiria</td>\n      <td>14-03-2021</td>\n      <td>19:10:58</td>\n      <td>Clear</td>\n      <td>12.85</td>\n      <td>9.32</td>\n      <td>1026</td>\n      <td>76</td>\n      <td>8.73</td>\n      <td>0</td>\n      <td>4.63</td>\n      <td>360</td>\n    </tr>\n    <tr>\n      <th>9</th>\n      <td>Lisboa</td>\n      <td>14-03-2021</td>\n      <td>19:10:58</td>\n      <td>Clear</td>\n      <td>13.53</td>\n      <td>12.94</td>\n      <td>1025</td>\n      <td>79</td>\n      <td>9.96</td>\n      <td>0</td>\n      <td>0.89</td>\n      <td>203</td>\n    </tr>\n    <tr>\n      <th>10</th>\n      <td>Portalegre</td>\n      <td>14-03-2021</td>\n      <td>19:10:59</td>\n      <td>Clear</td>\n      <td>15.41</td>\n      <td>15.19</td>\n      <td>1023</td>\n      <td>71</td>\n      <td>10.18</td>\n      <td>0</td>\n      <td>0.45</td>\n      <td>243</td>\n    </tr>\n    <tr>\n      <th>11</th>\n      <td>Porto</td>\n      <td>14-03-2021</td>\n      <td>19:10:59</td>\n      <td>Clear</td>\n      <td>13.16</td>\n      <td>8.47</td>\n      <td>1013</td>\n      <td>74</td>\n      <td>8.63</td>\n      <td>0</td>\n      <td>6.26</td>\n      <td>340</td>\n    </tr>\n    <tr>\n      <th>12</th>\n      <td>Santarém</td>\n      <td>14-03-2021</td>\n      <td>19:10:59</td>\n      <td>Clear</td>\n      <td>14.46</td>\n      <td>12.94</td>\n      <td>1022</td>\n      <td>63</td>\n      <td>7.51</td>\n      <td>0</td>\n      <td>1.34</td>\n      <td>279</td>\n    </tr>\n    <tr>\n      <th>13</th>\n      <td>Setúbal</td>\n      <td>14-03-2021</td>\n      <td>19:11:00</td>\n      <td>Clear</td>\n      <td>14.23</td>\n      <td>10.84</td>\n      <td>1025</td>\n      <td>72</td>\n      <td>9.26</td>\n      <td>0</td>\n      <td>4.63</td>\n      <td>340</td>\n    </tr>\n    <tr>\n      <th>14</th>\n      <td>Viana do Castelo</td>\n      <td>14-03-2021</td>\n      <td>19:11:00</td>\n      <td>Clear</td>\n      <td>12.45</td>\n      <td>9.67</td>\n      <td>1028</td>\n      <td>71</td>\n      <td>7.34</td>\n      <td>0</td>\n      <td>3.09</td>\n      <td>360</td>\n    </tr>\n    <tr>\n      <th>15</th>\n      <td>Vila Real</td>\n      <td>14-03-2021</td>\n      <td>19:11:00</td>\n      <td>Clear</td>\n      <td>11.11</td>\n      <td>8.68</td>\n      <td>1029</td>\n      <td>72</td>\n      <td>6.26</td>\n      <td>0</td>\n      <td>2.24</td>\n      <td>41</td>\n    </tr>\n    <tr>\n      <th>16</th>\n      <td>Viseu</td>\n      <td>14-03-2021</td>\n      <td>19:11:00</td>\n      <td>Clouds</td>\n      <td>9.86</td>\n      <td>7.91</td>\n      <td>1026</td>\n      <td>59</td>\n      <td>2.23</td>\n      <td>0</td>\n      <td>0.45</td>\n      <td>72</td>\n    </tr>\n  </tbody>\n</table>\n</div>"
     },
     "metadata": {},
     "execution_count": 22
    }
   ],
   "source": [
    "apiKey = '44cfad7f82ec61d3f420de3201b703d4'\n",
    "\n",
    "def getWeather(coordDic, apikey):\n",
    "    '''\n",
    "    Função para recolha dos dados meteorológicos provenientes da OpenWeather.\n",
    "    Devolve uma dataframe das váriáveis meteorológicas por distrito.\n",
    "    '''\n",
    "    forecast = []\n",
    "    for item in coord.items():\n",
    "        lat = str(item[1][1])\n",
    "        long = str(item[1][0])\n",
    "        url = 'https://api.openweathermap.org/data/2.5/onecall?lat=' + lat + '&lon=' + long + \\\n",
    "            '&exclude=minutely,hourly,daily,alerts&appid=' + apiKey + '&units=metric'\n",
    "        with urllib.request.urlopen(url) as url:\n",
    "            data = json.loads(url.read().decode())\n",
    "            districtForecast = {}\n",
    "            districtForecast['distrito'] = item[0]\n",
    "            districtForecast['forecast_date'] = datetime.utcfromtimestamp(data.get('current').get('dt')).strftime('%d-%m-%Y')\n",
    "            districtForecast['forecast_time'] = datetime.utcfromtimestamp(data.get('current').get('dt')).strftime('%H:%M:%S')\n",
    "            main = data.get('current').get('weather')\n",
    "            for item in main:\n",
    "                districtForecast['weather_desc'] = item.get('main')\n",
    "            districtForecast['temperature'] = data.get('current').get('temp')\n",
    "            districtForecast['feels_like'] = data.get('current').get('feels_like')\n",
    "            districtForecast['pressure'] = data.get('current').get('pressure')\n",
    "            districtForecast['humidity'] = data.get('current').get('humidity')\n",
    "            districtForecast['dew_point'] = data.get('current').get('dew_point')\n",
    "            districtForecast['ultrav_index'] = data.get('current').get('uvi')\n",
    "            districtForecast['wind_speed'] = data.get('current').get('wind_speed')\n",
    "            districtForecast['wind_deg'] = data.get('current').get('wind_deg')\n",
    "            forecast.append(districtForecast)\n",
    "    forecast_df = pandas.DataFrame(getWeather(coord, apiKey))\n",
    "    return forecast\n",
    "\n",
    "\n",
    "forecast_df.head(-1)"
   ]
  },
  {
   "cell_type": "code",
   "execution_count": 25,
   "metadata": {},
   "outputs": [
    {
     "output_type": "stream",
     "name": "stdout",
     "text": [
      "dfToPgSQL() done\n"
     ]
    }
   ],
   "source": [
    "password = open(os.path.join('pw.txt'), 'r').readline()\n",
    "password = str(password)\n",
    "\n",
    "con = psycopg2.connect(dbname='meteo', user='postgres', password=password, host='localhost', port='5432')\n",
    "\n",
    "def dfToPgSQL(conn, df, table):\n",
    "    '''\n",
    "    Utilização da função psycopg2.extras.execute_values()\n",
    "    para inserção da data frame colhida na tabela PostGreSQL \"forecast\"\n",
    "    '''\n",
    "    # Create a list of tupples from the dataframe values\n",
    "    tuples = [tuple(x) for x in df.to_numpy()]\n",
    "    # Comma-separated dataframe columns\n",
    "    cols = ','.join(list(df.columns))\n",
    "    # SQL quert to execute\n",
    "    query  = \"INSERT INTO %s(%s) VALUES %%s\" % (table, cols)\n",
    "    cursor = conn.cursor()\n",
    "    try:\n",
    "        psycopg2.extras.execute_values(cursor, query, tuples)\n",
    "        conn.commit()\n",
    "    except (Exception, psycopg2.DatabaseError) as error:\n",
    "        print(\"Error: %s\" % error)\n",
    "        conn.rollback()\n",
    "        cursor.close()\n",
    "        return 1\n",
    "    print(\"dfToPgSQL() done\")\n",
    "    cursor.close()\n",
    "\n",
    "dfToPgSQL(con, forecast_df, 'forecast')"
   ]
  }
 ],
 "metadata": {
  "kernelspec": {
   "display_name": "Python 3",
   "language": "python",
   "name": "python3"
  },
  "language_info": {
   "codemirror_mode": {
    "name": "ipython",
    "version": 3
   },
   "file_extension": ".py",
   "mimetype": "text/x-python",
   "name": "python",
   "nbconvert_exporter": "python",
   "pygments_lexer": "ipython3",
   "version": "3.8.8-final"
  }
 },
 "nbformat": 4,
 "nbformat_minor": 5
}