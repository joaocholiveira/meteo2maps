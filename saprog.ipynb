{
 "cells": [
  {
   "cell_type": "code",
   "execution_count": 41,
   "id": "herbal-zoning",
   "metadata": {},
   "outputs": [],
   "source": [
    "import os, urllib.request, json, shapefile, shutil, subprocess, csv, fiona, shapely, geopandas, psycopg2, pandas\n",
    "from osgeo import gdal, ogr, osr\n",
    "from datetime import datetime"
   ]
  },
  {
   "cell_type": "code",
   "execution_count": null,
   "id": "cognitive-groove",
   "metadata": {},
   "outputs": [],
   "source": [
    "os.environ['SHAPE_ENCODING'] = \"utf-8\"\n",
    "basePath = 'C:\\\\saprog\\\\projeto'\n",
    "outputPath = 'C:\\\\saprog\\\\projeto\\\\output'\n",
    "os.chdir(basePath)\n",
    "\n",
    "def deleteAndCreateOutput():\n",
    "    print ('A limpar e criar directoria de outputs...')\n",
    "    outDir = os.path.join(basePath, 'output')\n",
    "    if os.path.isdir(outDir):\n",
    "        shutil.rmtree(outDir)\n",
    "    os.mkdir(outDir)\n",
    "\n",
    "deleteAndCreateOutput()"
   ]
  },
  {
   "cell_type": "code",
   "execution_count": null,
   "id": "latin-genre",
   "metadata": {},
   "outputs": [],
   "source": [
    "print('A ler shapefile...')\n",
    "caop = geopandas.read_file('caop.shp',encoding='utf-8')\n",
    "# caop.plot()\n",
    "# caop.head()\n",
    "# gdf = caop.loc[caop['Concelho'] == 'Bombarral']\n",
    "# gdf.head()"
   ]
  },
  {
   "cell_type": "code",
   "execution_count": null,
   "id": "dimensional-better",
   "metadata": {},
   "outputs": [],
   "source": [
    "print('A executar Dissolve...')\n",
    "distritos = caop.dissolve(by = 'Distrito')\n",
    "# distritos.plot()\n",
    "# distritos.head(1)"
   ]
  },
  {
   "cell_type": "code",
   "execution_count": null,
   "id": "scheduled-production",
   "metadata": {},
   "outputs": [],
   "source": [
    "print('A extrair centroides das regiões admninistrativas...')\n",
    "shpOutput = os.path.join(outputPath, 'centroides.shp')\n",
    "\n",
    "# dataProj = distritos.to_crs(epsg = 3763)\n",
    "# centroides = dataProj.centroid\n",
    "centroides = distritos.centroid\n",
    "centroides.to_file(shpOutput, encoding='utf-8')\n",
    "# centroides.plot()\n",
    "# centroides.head()"
   ]
  },
  {
   "cell_type": "code",
   "execution_count": null,
   "id": "speaking-fleece",
   "metadata": {},
   "outputs": [],
   "source": [
    "coordx = centroides.x.to_dict()\n",
    "coordy = centroides.y.to_dict()\n",
    "# print(coordx)\n",
    "# print(coordy)\n",
    "\n",
    "def getCoordinates(dicX, dicY):\n",
    "    coord = [dicX, dicY]\n",
    "    coordDic = {}\n",
    "    for i in dicX.keys():\n",
    "        coordDic[i] = tuple(coordDic[i] for coordDic in coord)\n",
    "    return coordDic\n",
    "\n",
    "print('A extrair coodenadas...')\n",
    "coord = getCoordinates(coordx, coordy)\n",
    "print(coord)"
   ]
  },
  {
   "cell_type": "code",
   "execution_count": null,
   "id": "centered-circus",
   "metadata": {},
   "outputs": [],
   "source": [
    "# Carregamento de shapefile na bd\n",
    "# command = [\"C:\\\\OSGeo4W64\\\\bin\\\\ogr2ogr.exe\",\n",
    "#           \"-f\", \"PostgreSQL\",\n",
    "#           \"PG:host=localhost user=postgres dbname=meteo password=3763\",\n",
    "#           shpOutput,\n",
    "#           \"-lco\", \"GEOMETRY_NAME=the_geom\", \"-lco\", \"FID=gid\", \"-lco\",\n",
    "#           \" PRECISION=no\", \"-nlt\", \"PROMOTE_TO_MULTI\", \"-nln\", \"centroides\", \"-overwrite\"]\n",
    "# subprocess.check_call(command)"
   ]
  },
  {
   "cell_type": "code",
   "execution_count": 27,
   "id": "industrial-plumbing",
   "metadata": {},
   "outputs": [
    {
     "output_type": "stream",
     "name": "stdout",
     "text": [
      "{'lat': 40.7237, 'lon': -8.4684, 'timezone': 'Europe/Lisbon', 'timezone_offset': 0, 'current': {'dt': 1615685315, 'sunrise': 1615704428, 'sunset': 1615747145, 'temp': 9.44, 'feels_like': 7.66, 'pressure': 1030, 'humidity': 86, 'dew_point': 7.22, 'uvi': 0, 'clouds': 21, 'visibility': 10000, 'wind_speed': 1.61, 'wind_deg': 46, 'wind_gust': 2.06, 'weather': [{'id': 801, 'main': 'Clouds', 'description': 'few clouds', 'icon': '02n'}]}} \n\n1615685315 \n\nfew clouds\n"
     ]
    }
   ],
   "source": [
    "# Teste de acesso aos dados da resposta da API\n",
    "apiKey = '44cfad7f82ec61d3f420de3201b703d4'\n",
    "\n",
    "url = 'https://api.openweathermap.org/data/2.5/onecall?lat=40.7237&lon=-8.4684&exclude=minutely,hourly,daily,alerts&appid=' + apiKey + '&units=metric'\n",
    "with urllib.request.urlopen(url) as url:\n",
    "    data = json.loads(url.read().decode())\n",
    "\n",
    "print(data,'\\n')\n",
    "print(data.get('current').get('dt'),'\\n') #dt inside current\n",
    "a = data.get('current').get('weather')\n",
    "for i in a:\n",
    "    print(i.get('description'))"
   ]
  },
  {
   "cell_type": "code",
   "execution_count": 43,
   "id": "according-lightning",
   "metadata": {},
   "outputs": [
    {
     "output_type": "execute_result",
     "data": {
      "text/plain": [
       "         distrito        date      time  temperature  feels_like  pressure  \\\n",
       "0          Aveiro  14-03-2021  02:40:23         8.33        6.42      1030   \n",
       "1            Beja  14-03-2021  02:40:24         7.00        5.52      1026   \n",
       "2           Braga  14-03-2021  02:40:24         6.49        4.52      1028   \n",
       "3        Bragança  14-03-2021  02:40:24         3.35        0.63      1028   \n",
       "4  Castelo Branco  14-03-2021  02:40:24         2.22       -0.92      1018   \n",
       "\n",
       "   humidity  dew_point  ultrav_index  \n",
       "0        88       6.46             0  \n",
       "1        87       4.99             0  \n",
       "2        90       4.97             0  \n",
       "3        95       2.63             0  \n",
       "4        86       0.12             0  "
      ],
      "text/html": "<div>\n<style scoped>\n    .dataframe tbody tr th:only-of-type {\n        vertical-align: middle;\n    }\n\n    .dataframe tbody tr th {\n        vertical-align: top;\n    }\n\n    .dataframe thead th {\n        text-align: right;\n    }\n</style>\n<table border=\"1\" class=\"dataframe\">\n  <thead>\n    <tr style=\"text-align: right;\">\n      <th></th>\n      <th>distrito</th>\n      <th>date</th>\n      <th>time</th>\n      <th>temperature</th>\n      <th>feels_like</th>\n      <th>pressure</th>\n      <th>humidity</th>\n      <th>dew_point</th>\n      <th>ultrav_index</th>\n    </tr>\n  </thead>\n  <tbody>\n    <tr>\n      <th>0</th>\n      <td>Aveiro</td>\n      <td>14-03-2021</td>\n      <td>02:40:23</td>\n      <td>8.33</td>\n      <td>6.42</td>\n      <td>1030</td>\n      <td>88</td>\n      <td>6.46</td>\n      <td>0</td>\n    </tr>\n    <tr>\n      <th>1</th>\n      <td>Beja</td>\n      <td>14-03-2021</td>\n      <td>02:40:24</td>\n      <td>7.00</td>\n      <td>5.52</td>\n      <td>1026</td>\n      <td>87</td>\n      <td>4.99</td>\n      <td>0</td>\n    </tr>\n    <tr>\n      <th>2</th>\n      <td>Braga</td>\n      <td>14-03-2021</td>\n      <td>02:40:24</td>\n      <td>6.49</td>\n      <td>4.52</td>\n      <td>1028</td>\n      <td>90</td>\n      <td>4.97</td>\n      <td>0</td>\n    </tr>\n    <tr>\n      <th>3</th>\n      <td>Bragança</td>\n      <td>14-03-2021</td>\n      <td>02:40:24</td>\n      <td>3.35</td>\n      <td>0.63</td>\n      <td>1028</td>\n      <td>95</td>\n      <td>2.63</td>\n      <td>0</td>\n    </tr>\n    <tr>\n      <th>4</th>\n      <td>Castelo Branco</td>\n      <td>14-03-2021</td>\n      <td>02:40:24</td>\n      <td>2.22</td>\n      <td>-0.92</td>\n      <td>1018</td>\n      <td>86</td>\n      <td>0.12</td>\n      <td>0</td>\n    </tr>\n  </tbody>\n</table>\n</div>"
     },
     "metadata": {},
     "execution_count": 43
    }
   ],
   "source": [
    "apiKey = '44cfad7f82ec61d3f420de3201b703d4'\n",
    "\n",
    "def getWeather(coordDic, apikey):\n",
    "    forecast = []\n",
    "    for item in coord.items():\n",
    "        lat = str(item[1][1])\n",
    "        long = str(item[1][0])\n",
    "        url = 'https://api.openweathermap.org/data/2.5/onecall?lat=' + lat + '&lon=' + long + \\\n",
    "            '&exclude=minutely,hourly,daily,alerts&appid=' + apiKey + '&units=metric'\n",
    "        with urllib.request.urlopen(url) as url:\n",
    "            data = json.loads(url.read().decode())\n",
    "            districtForecast = {}\n",
    "            districtForecast['distrito'] = item[0]\n",
    "            districtForecast['date'] = datetime.utcfromtimestamp(data.get('current').get('dt')).strftime('%d-%m-%Y')\n",
    "            districtForecast['time'] = datetime.utcfromtimestamp(data.get('current').get('dt')).strftime('%H:%M:%S')\n",
    "            districtForecast['temperature'] = data.get('current').get('temp')\n",
    "            districtForecast['feels_like'] = data.get('current').get('feels_like')\n",
    "            districtForecast['pressure'] = data.get('current').get('pressure')\n",
    "            districtForecast['humidity'] = data.get('current').get('humidity')\n",
    "            districtForecast['dew_point'] = data.get('current').get('dew_point')\n",
    "            districtForecast['ultrav_index'] = data.get('current').get('uvi')\n",
    "            districtForecast['wind_speed'] = data.get('current').get('wind_speed')\n",
    "            districtForecast['wind_deg'] = data.get('current').get('wind_deg')\n",
    "\n",
    "\n",
    "            forecast.append(districtForecast)\n",
    "    return forecast\n",
    "\n",
    "df = pandas.DataFrame(getWeather(coord, apiKey))\n",
    "df.head()"
   ]
  },
  {
   "cell_type": "code",
   "execution_count": null,
   "metadata": {},
   "outputs": [],
   "source": []
  }
 ],
 "metadata": {
  "kernelspec": {
   "display_name": "Python 3",
   "language": "python",
   "name": "python3"
  },
  "language_info": {
   "codemirror_mode": {
    "name": "ipython",
    "version": 3
   },
   "file_extension": ".py",
   "mimetype": "text/x-python",
   "name": "python",
   "nbconvert_exporter": "python",
   "pygments_lexer": "ipython3",
   "version": "3.8.8-final"
  }
 },
 "nbformat": 4,
 "nbformat_minor": 5
}