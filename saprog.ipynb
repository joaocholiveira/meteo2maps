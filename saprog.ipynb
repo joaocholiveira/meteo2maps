{
 "cells": [
  {
   "cell_type": "code",
   "execution_count": 1,
   "id": "pharmaceutical-moore",
   "metadata": {},
   "outputs": [],
   "source": [
    "import os, urllib.request, json, shapefile, shutil, subprocess, csv, fiona, shapely, geopandas, psycopg2, pandas\n",
    "from osgeo import gdal, ogr, osr\n",
    "from datetime import datetime"
   ]
  },
  {
   "cell_type": "code",
   "execution_count": 2,
   "id": "smooth-convergence",
   "metadata": {},
   "outputs": [
    {
     "output_type": "stream",
     "name": "stdout",
     "text": [
      "A limpar e criar directoria de outputs...\n"
     ]
    }
   ],
   "source": [
    "os.environ['SHAPE_ENCODING'] = \"utf-8\"\n",
    "basePath = 'C:\\\\saprog\\\\projeto'\n",
    "outputPath = 'C:\\\\saprog\\\\projeto\\\\output'\n",
    "os.chdir(basePath)\n",
    "\n",
    "def deleteAndCreateOutput():\n",
    "    print ('A limpar e criar directoria de outputs...')\n",
    "    outDir = os.path.join(basePath, 'output')\n",
    "    if os.path.isdir(outDir):\n",
    "        shutil.rmtree(outDir)\n",
    "    os.mkdir(outDir)\n",
    "\n",
    "deleteAndCreateOutput()"
   ]
  },
  {
   "cell_type": "code",
   "execution_count": 3,
   "id": "impaired-herald",
   "metadata": {},
   "outputs": [
    {
     "output_type": "stream",
     "name": "stdout",
     "text": [
      "A ler shapefile...\n"
     ]
    }
   ],
   "source": [
    "print('A ler shapefile...')\n",
    "caop = geopandas.read_file('caop.shp',encoding='utf-8')\n",
    "# caop.plot()\n",
    "# caop.head()\n",
    "# gdf = caop.loc[caop['Concelho'] == 'Bombarral']\n",
    "# gdf.head()"
   ]
  },
  {
   "cell_type": "code",
   "execution_count": 4,
   "id": "painful-officer",
   "metadata": {},
   "outputs": [
    {
     "output_type": "stream",
     "name": "stdout",
     "text": [
      "A executar Dissolve...\n"
     ]
    }
   ],
   "source": [
    "print('A executar Dissolve...')\n",
    "distritos = caop.dissolve(by = 'Distrito')\n",
    "# distritos.plot()\n",
    "# distritos.head(1)"
   ]
  },
  {
   "cell_type": "code",
   "execution_count": 5,
   "id": "honey-communication",
   "metadata": {},
   "outputs": [
    {
     "output_type": "stream",
     "name": "stdout",
     "text": [
      "A extrair centroides das regiões admninistrativas...\n",
      "<ipython-input-5-5a8a41490fe0>:6: UserWarning: Geometry is in a geographic CRS. Results from 'centroid' are likely incorrect. Use 'GeoSeries.to_crs()' to re-project geometries to a projected CRS before this operation.\n",
      "\n",
      "  centroides = distritos.centroid\n"
     ]
    }
   ],
   "source": [
    "print('A extrair centroides das regiões admninistrativas...')\n",
    "shpOutput = os.path.join(outputPath, 'centroides.shp')\n",
    "\n",
    "# dataProj = distritos.to_crs(epsg = 3763)\n",
    "# centroides = dataProj.centroid\n",
    "centroides = distritos.centroid\n",
    "centroides.to_file(shpOutput, encoding='utf-8')\n",
    "# centroides.plot()\n",
    "# centroides.head()"
   ]
  },
  {
   "cell_type": "code",
   "execution_count": 6,
   "id": "according-thompson",
   "metadata": {},
   "outputs": [
    {
     "output_type": "stream",
     "name": "stdout",
     "text": [
      "A extrair coodenadas...\n{'Aveiro': (-8.46838037713987, 40.7236925098494), 'Beja': (-7.94388147040214, 37.82970078780623), 'Braga': (-8.309815844734775, 41.55294943650094), 'Bragança': (-6.859336412433179, 41.509404985269676), 'Castelo Branco': (-7.5016170094379, 39.946483706164535), 'Coimbra': (-8.33590045610553, 40.204414004264905), 'Faro': (-8.13168379460421, 37.24368427672163), 'Guarda': (-7.229585420073208, 40.641320980615), 'Leiria': (-8.775241866061927, 39.717272858669155), 'Lisboa': (-9.163514891800212, 38.9967494344431), 'Portalegre': (-7.620439565448195, 39.190063045702445), 'Porto': (-8.352739071777673, 41.22479245090154), 'Santarém': (-8.477568721428257, 39.293494949281204), 'Setúbal': (-8.652857331305352, 38.318451316051366), 'Viana do Castelo': (-8.50709117586541, 41.87785654627992), 'Vila Real': (-7.631700989514108, 41.55496982213632), 'Viseu': (-7.870908401501086, 40.79887555573913), 'Évora': (-7.8417966523604, 38.603868659253635)}\n"
     ]
    }
   ],
   "source": [
    "coordx = centroides.x.to_dict()\n",
    "coordy = centroides.y.to_dict()\n",
    "# print(coordx)\n",
    "# print(coordy)\n",
    "\n",
    "def getCoordinates(dicX, dicY):\n",
    "    coord = [dicX, dicY]\n",
    "    coordDic = {}\n",
    "    for i in dicX.keys():\n",
    "        coordDic[i] = tuple(coordDic[i] for coordDic in coord)\n",
    "    return coordDic\n",
    "\n",
    "print('A extrair coodenadas...')\n",
    "coord = getCoordinates(coordx, coordy)"
   ]
  },
  {
   "cell_type": "code",
   "execution_count": 7,
   "id": "compressed-import",
   "metadata": {},
   "outputs": [],
   "source": [
    "# Carregamento de shapefile na bd\n",
    "# command = [\"C:\\\\OSGeo4W64\\\\bin\\\\ogr2ogr.exe\",\n",
    "#           \"-f\", \"PostgreSQL\",\n",
    "#           \"PG:host=localhost user=postgres dbname=meteo password=3763\",\n",
    "#           shpOutput,\n",
    "#           \"-lco\", \"GEOMETRY_NAME=the_geom\", \"-lco\", \"FID=gid\", \"-lco\",\n",
    "#           \" PRECISION=no\", \"-nlt\", \"PROMOTE_TO_MULTI\", \"-nln\", \"centroides\", \"-overwrite\"]\n",
    "# subprocess.check_call(command)"
   ]
  },
  {
   "cell_type": "code",
   "execution_count": 9,
   "id": "applicable-anthropology",
   "metadata": {},
   "outputs": [
    {
     "output_type": "execute_result",
     "data": {
      "text/plain": [
       "            distrito        date      time weather_desc  temperature  \\\n",
       "0             Aveiro  14-03-2021  15:42:18       Clouds        15.30   \n",
       "1               Beja  14-03-2021  15:42:19        Clear        19.00   \n",
       "2              Braga  14-03-2021  15:42:19       Clouds        17.39   \n",
       "3           Bragança  14-03-2021  15:42:20       Clouds        14.38   \n",
       "4     Castelo Branco  14-03-2021  15:42:20        Clear        17.48   \n",
       "5            Coimbra  14-03-2021  15:42:20        Clear        16.84   \n",
       "6               Faro  14-03-2021  15:42:20        Clear        19.00   \n",
       "7             Guarda  14-03-2021  15:42:21        Clear        17.21   \n",
       "8             Leiria  14-03-2021  15:42:21        Clear        17.28   \n",
       "9             Lisboa  14-03-2021  15:42:21        Clear        18.18   \n",
       "10        Portalegre  14-03-2021  15:42:21        Clear        20.56   \n",
       "11             Porto  14-03-2021  15:42:22        Clear        16.82   \n",
       "12          Santarém  14-03-2021  15:42:22       Clouds        20.01   \n",
       "13           Setúbal  14-03-2021  15:42:22        Clear        18.47   \n",
       "14  Viana do Castelo  14-03-2021  15:42:22       Clouds        14.85   \n",
       "15         Vila Real  14-03-2021  15:42:23        Clear        16.38   \n",
       "16             Viseu  14-03-2021  15:42:23        Clear        17.44   \n",
       "\n",
       "    feels_like  pressure  humidity  dew_point  ultrav_index  wind_speed  \\\n",
       "0        10.38      1027        72      10.29          1.44        7.20   \n",
       "1        15.16      1024        37       4.00          1.65        3.60   \n",
       "2        16.34      1026        50       6.87          1.38        0.45   \n",
       "3        12.58      1025        52       4.66          1.15        0.87   \n",
       "4        14.10       995        48       6.36          1.52        3.63   \n",
       "5        15.29      1027        74      12.18          1.47        3.17   \n",
       "6        15.74      1023        45       6.81          1.72        3.60   \n",
       "7        14.06      1026        47       5.81          1.38        3.13   \n",
       "8        11.61      1026        63      10.18          1.57        8.23   \n",
       "9        16.25      1023        53       8.46          1.69        2.24   \n",
       "10       17.95      1022        45       8.23          1.52        3.13   \n",
       "11       12.54      1013        65      10.21          1.41        6.26   \n",
       "12       17.28      1022        45       7.73          1.57        3.13   \n",
       "13       14.38      1025        45       6.33          1.70        4.63   \n",
       "14       12.33      1028        72       9.86          1.41        3.60   \n",
       "15       12.06      1034        10     -13.69          1.37        1.34   \n",
       "16       14.33      1026        47       6.02          1.42        3.13   \n",
       "\n",
       "    wind_deg  \n",
       "0        340  \n",
       "1         30  \n",
       "2         10  \n",
       "3        320  \n",
       "4         44  \n",
       "5        340  \n",
       "6        120  \n",
       "7         76  \n",
       "8        340  \n",
       "9         39  \n",
       "10       243  \n",
       "11       330  \n",
       "12       243  \n",
       "13        30  \n",
       "14       360  \n",
       "15       215  \n",
       "16        76  "
      ],
      "text/html": "<div>\n<style scoped>\n    .dataframe tbody tr th:only-of-type {\n        vertical-align: middle;\n    }\n\n    .dataframe tbody tr th {\n        vertical-align: top;\n    }\n\n    .dataframe thead th {\n        text-align: right;\n    }\n</style>\n<table border=\"1\" class=\"dataframe\">\n  <thead>\n    <tr style=\"text-align: right;\">\n      <th></th>\n      <th>distrito</th>\n      <th>date</th>\n      <th>time</th>\n      <th>weather_desc</th>\n      <th>temperature</th>\n      <th>feels_like</th>\n      <th>pressure</th>\n      <th>humidity</th>\n      <th>dew_point</th>\n      <th>ultrav_index</th>\n      <th>wind_speed</th>\n      <th>wind_deg</th>\n    </tr>\n  </thead>\n  <tbody>\n    <tr>\n      <th>0</th>\n      <td>Aveiro</td>\n      <td>14-03-2021</td>\n      <td>15:42:18</td>\n      <td>Clouds</td>\n      <td>15.30</td>\n      <td>10.38</td>\n      <td>1027</td>\n      <td>72</td>\n      <td>10.29</td>\n      <td>1.44</td>\n      <td>7.20</td>\n      <td>340</td>\n    </tr>\n    <tr>\n      <th>1</th>\n      <td>Beja</td>\n      <td>14-03-2021</td>\n      <td>15:42:19</td>\n      <td>Clear</td>\n      <td>19.00</td>\n      <td>15.16</td>\n      <td>1024</td>\n      <td>37</td>\n      <td>4.00</td>\n      <td>1.65</td>\n      <td>3.60</td>\n      <td>30</td>\n    </tr>\n    <tr>\n      <th>2</th>\n      <td>Braga</td>\n      <td>14-03-2021</td>\n      <td>15:42:19</td>\n      <td>Clouds</td>\n      <td>17.39</td>\n      <td>16.34</td>\n      <td>1026</td>\n      <td>50</td>\n      <td>6.87</td>\n      <td>1.38</td>\n      <td>0.45</td>\n      <td>10</td>\n    </tr>\n    <tr>\n      <th>3</th>\n      <td>Bragança</td>\n      <td>14-03-2021</td>\n      <td>15:42:20</td>\n      <td>Clouds</td>\n      <td>14.38</td>\n      <td>12.58</td>\n      <td>1025</td>\n      <td>52</td>\n      <td>4.66</td>\n      <td>1.15</td>\n      <td>0.87</td>\n      <td>320</td>\n    </tr>\n    <tr>\n      <th>4</th>\n      <td>Castelo Branco</td>\n      <td>14-03-2021</td>\n      <td>15:42:20</td>\n      <td>Clear</td>\n      <td>17.48</td>\n      <td>14.10</td>\n      <td>995</td>\n      <td>48</td>\n      <td>6.36</td>\n      <td>1.52</td>\n      <td>3.63</td>\n      <td>44</td>\n    </tr>\n    <tr>\n      <th>5</th>\n      <td>Coimbra</td>\n      <td>14-03-2021</td>\n      <td>15:42:20</td>\n      <td>Clear</td>\n      <td>16.84</td>\n      <td>15.29</td>\n      <td>1027</td>\n      <td>74</td>\n      <td>12.18</td>\n      <td>1.47</td>\n      <td>3.17</td>\n      <td>340</td>\n    </tr>\n    <tr>\n      <th>6</th>\n      <td>Faro</td>\n      <td>14-03-2021</td>\n      <td>15:42:20</td>\n      <td>Clear</td>\n      <td>19.00</td>\n      <td>15.74</td>\n      <td>1023</td>\n      <td>45</td>\n      <td>6.81</td>\n      <td>1.72</td>\n      <td>3.60</td>\n      <td>120</td>\n    </tr>\n    <tr>\n      <th>7</th>\n      <td>Guarda</td>\n      <td>14-03-2021</td>\n      <td>15:42:21</td>\n      <td>Clear</td>\n      <td>17.21</td>\n      <td>14.06</td>\n      <td>1026</td>\n      <td>47</td>\n      <td>5.81</td>\n      <td>1.38</td>\n      <td>3.13</td>\n      <td>76</td>\n    </tr>\n    <tr>\n      <th>8</th>\n      <td>Leiria</td>\n      <td>14-03-2021</td>\n      <td>15:42:21</td>\n      <td>Clear</td>\n      <td>17.28</td>\n      <td>11.61</td>\n      <td>1026</td>\n      <td>63</td>\n      <td>10.18</td>\n      <td>1.57</td>\n      <td>8.23</td>\n      <td>340</td>\n    </tr>\n    <tr>\n      <th>9</th>\n      <td>Lisboa</td>\n      <td>14-03-2021</td>\n      <td>15:42:21</td>\n      <td>Clear</td>\n      <td>18.18</td>\n      <td>16.25</td>\n      <td>1023</td>\n      <td>53</td>\n      <td>8.46</td>\n      <td>1.69</td>\n      <td>2.24</td>\n      <td>39</td>\n    </tr>\n    <tr>\n      <th>10</th>\n      <td>Portalegre</td>\n      <td>14-03-2021</td>\n      <td>15:42:21</td>\n      <td>Clear</td>\n      <td>20.56</td>\n      <td>17.95</td>\n      <td>1022</td>\n      <td>45</td>\n      <td>8.23</td>\n      <td>1.52</td>\n      <td>3.13</td>\n      <td>243</td>\n    </tr>\n    <tr>\n      <th>11</th>\n      <td>Porto</td>\n      <td>14-03-2021</td>\n      <td>15:42:22</td>\n      <td>Clear</td>\n      <td>16.82</td>\n      <td>12.54</td>\n      <td>1013</td>\n      <td>65</td>\n      <td>10.21</td>\n      <td>1.41</td>\n      <td>6.26</td>\n      <td>330</td>\n    </tr>\n    <tr>\n      <th>12</th>\n      <td>Santarém</td>\n      <td>14-03-2021</td>\n      <td>15:42:22</td>\n      <td>Clouds</td>\n      <td>20.01</td>\n      <td>17.28</td>\n      <td>1022</td>\n      <td>45</td>\n      <td>7.73</td>\n      <td>1.57</td>\n      <td>3.13</td>\n      <td>243</td>\n    </tr>\n    <tr>\n      <th>13</th>\n      <td>Setúbal</td>\n      <td>14-03-2021</td>\n      <td>15:42:22</td>\n      <td>Clear</td>\n      <td>18.47</td>\n      <td>14.38</td>\n      <td>1025</td>\n      <td>45</td>\n      <td>6.33</td>\n      <td>1.70</td>\n      <td>4.63</td>\n      <td>30</td>\n    </tr>\n    <tr>\n      <th>14</th>\n      <td>Viana do Castelo</td>\n      <td>14-03-2021</td>\n      <td>15:42:22</td>\n      <td>Clouds</td>\n      <td>14.85</td>\n      <td>12.33</td>\n      <td>1028</td>\n      <td>72</td>\n      <td>9.86</td>\n      <td>1.41</td>\n      <td>3.60</td>\n      <td>360</td>\n    </tr>\n    <tr>\n      <th>15</th>\n      <td>Vila Real</td>\n      <td>14-03-2021</td>\n      <td>15:42:23</td>\n      <td>Clear</td>\n      <td>16.38</td>\n      <td>12.06</td>\n      <td>1034</td>\n      <td>10</td>\n      <td>-13.69</td>\n      <td>1.37</td>\n      <td>1.34</td>\n      <td>215</td>\n    </tr>\n    <tr>\n      <th>16</th>\n      <td>Viseu</td>\n      <td>14-03-2021</td>\n      <td>15:42:23</td>\n      <td>Clear</td>\n      <td>17.44</td>\n      <td>14.33</td>\n      <td>1026</td>\n      <td>47</td>\n      <td>6.02</td>\n      <td>1.42</td>\n      <td>3.13</td>\n      <td>76</td>\n    </tr>\n  </tbody>\n</table>\n</div>"
     },
     "metadata": {},
     "execution_count": 9
    }
   ],
   "source": [
    "apiKey = '44cfad7f82ec61d3f420de3201b703d4'\n",
    "\n",
    "def getWeather(coordDic, apikey):\n",
    "    forecast = []\n",
    "    for item in coord.items():\n",
    "        lat = str(item[1][1])\n",
    "        long = str(item[1][0])\n",
    "        url = 'https://api.openweathermap.org/data/2.5/onecall?lat=' + lat + '&lon=' + long + \\\n",
    "            '&exclude=minutely,hourly,daily,alerts&appid=' + apiKey + '&units=metric'\n",
    "        with urllib.request.urlopen(url) as url:\n",
    "            data = json.loads(url.read().decode())\n",
    "            districtForecast = {}\n",
    "            districtForecast['distrito'] = item[0]\n",
    "            districtForecast['date'] = datetime.utcfromtimestamp(data.get('current').get('dt')).strftime('%d-%m-%Y')\n",
    "            districtForecast['time'] = datetime.utcfromtimestamp(data.get('current').get('dt')).strftime('%H:%M:%S')\n",
    "            main = data.get('current').get('weather')\n",
    "            for item in main:\n",
    "                districtForecast['weather_desc'] = item.get('main')\n",
    "            districtForecast['temperature'] = data.get('current').get('temp')\n",
    "            districtForecast['feels_like'] = data.get('current').get('feels_like')\n",
    "            districtForecast['pressure'] = data.get('current').get('pressure')\n",
    "            districtForecast['humidity'] = data.get('current').get('humidity')\n",
    "            districtForecast['dew_point'] = data.get('current').get('dew_point')\n",
    "            districtForecast['ultrav_index'] = data.get('current').get('uvi')\n",
    "            districtForecast['wind_speed'] = data.get('current').get('wind_speed')\n",
    "            districtForecast['wind_deg'] = data.get('current').get('wind_deg')\n",
    "\n",
    "\n",
    "            forecast.append(districtForecast)\n",
    "    return forecast\n",
    "\n",
    "df = pandas.DataFrame(getWeather(coord, apiKey))\n",
    "df.head(-1)"
   ]
  },
  {
   "cell_type": "code",
   "execution_count": null,
   "id": "german-saint",
   "metadata": {},
   "outputs": [],
   "source": []
  }
 ],
 "metadata": {
  "kernelspec": {
   "display_name": "Python 3",
   "language": "python",
   "name": "python3"
  },
  "language_info": {
   "codemirror_mode": {
    "name": "ipython",
    "version": 3
   },
   "file_extension": ".py",
   "mimetype": "text/x-python",
   "name": "python",
   "nbconvert_exporter": "python",
   "pygments_lexer": "ipython3",
   "version": "3.8.8-final"
  }
 },
 "nbformat": 4,
 "nbformat_minor": 5
}