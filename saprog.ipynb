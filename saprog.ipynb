{
 "cells": [
  {
   "source": [
    "# <img src=\"icons\\meteo2maps.png\" width=20 height=20/> METEO2MAPS\n",
    "## <img src=\"icons\\meteo2maps.png\" width=20 height=20/> Projeto prático de software aberto e programação em SIG\n",
    "### <img src=\"icons\\meteo2maps.png\" width=20 height=20/> João H. Oliveira, 2021"
   ],
   "cell_type": "markdown",
   "metadata": {}
  },
  {
   "cell_type": "code",
   "execution_count": 75,
   "id": "pharmaceutical-moore",
   "metadata": {},
   "outputs": [],
   "source": [
    "import os, urllib.request, json, subprocess, geopandas, pandas, shutil, psycopg2, re, requests, time\n",
    "from datetime import datetime\n",
    "from psycopg2 import extras as psy2extras\n",
    "from geo.Geoserver import Geoserver"
   ]
  },
  {
   "cell_type": "code",
   "execution_count": 76,
   "id": "smooth-convergence",
   "metadata": {},
   "outputs": [
    {
     "output_type": "stream",
     "name": "stdout",
     "text": [
      "A limpar e criar directoria de outputs...\n"
     ]
    }
   ],
   "source": [
    "os.environ['SHAPE_ENCODING'] = \"utf-8\"\n",
    "basePath = 'C:\\\\saprog\\\\projeto'\n",
    "outputPath = 'C:\\\\saprog\\\\projeto\\\\output'\n",
    "os.chdir(basePath)\n",
    "\n",
    "def deleteAndCreateOutput():\n",
    "    print ('A limpar e criar directoria de outputs...')\n",
    "    outDir = os.path.join(basePath, 'output')\n",
    "    if os.path.isdir(outDir):\n",
    "        shutil.rmtree(outDir)\n",
    "    os.mkdir(outDir)\n",
    "\n",
    "deleteAndCreateOutput()"
   ]
  },
  {
   "cell_type": "code",
   "execution_count": 77,
   "id": "impaired-herald",
   "metadata": {},
   "outputs": [
    {
     "output_type": "stream",
     "name": "stdout",
     "text": [
      "A ler shapefile...\n"
     ]
    }
   ],
   "source": [
    "print('A ler shapefile...')\n",
    "caop = geopandas.read_file('caop.shp', encoding='utf-8')\n",
    "# caop.plot()\n",
    "# caop.head()\n",
    "# gdf = caop.loc[caop['Concelho'] == 'Bombarral']\n",
    "# gdf.head()"
   ]
  },
  {
   "cell_type": "code",
   "execution_count": 78,
   "id": "painful-officer",
   "metadata": {},
   "outputs": [
    {
     "output_type": "stream",
     "name": "stdout",
     "text": [
      "A executar Dissolve...\n",
      "A exportar Distritos...\n"
     ]
    }
   ],
   "source": [
    "os.chdir(outputPath)\n",
    "\n",
    "print('A executar Dissolve...')\n",
    "distritos = caop.dissolve(by = 'Distrito')\n",
    "\n",
    "print('A exportar Distritos...')\n",
    "distritos.to_file('distritos.shp', encoding='utf-8')\n",
    "\n",
    "# distritos.plot()\n",
    "# distritos.head(1)"
   ]
  },
  {
   "cell_type": "code",
   "execution_count": 72,
   "id": "honey-communication",
   "metadata": {},
   "outputs": [
    {
     "output_type": "stream",
     "name": "stdout",
     "text": [
      "A extrair centroides das regiões admninistrativas...\n",
      "<ipython-input-72-507fe550f694>:9: UserWarning: Geometry is in a geographic CRS. Results from 'centroid' are likely incorrect. Use 'GeoSeries.to_crs()' to re-project geometries to a projected CRS before this operation.\n",
      "\n",
      "  centroides = distritos.centroid\n"
     ]
    }
   ],
   "source": [
    "print('A extrair centroides das regiões admninistrativas...')\n",
    "\n",
    "## Para evitar o warning da reprojeção\n",
    "# dataProj = distritos.to_crs(epsg = 3763)\n",
    "# centroides = dataProj.centroid\n",
    "\n",
    "os.chdir(outputPath)\n",
    "\n",
    "centroides = distritos.centroid\n",
    "centroides.to_file('centroides.shp', encoding='utf-8')\n",
    "# centroides.plot()\n",
    "# centroides.head()\n",
    "\n",
    "coordx = centroides.x.to_dict()\n",
    "coordy = centroides.y.to_dict()\n",
    "# print(coordx)\n",
    "# print(coordy)"
   ]
  },
  {
   "cell_type": "code",
   "execution_count": 79,
   "id": "according-thompson",
   "metadata": {},
   "outputs": [
    {
     "output_type": "stream",
     "name": "stdout",
     "text": [
      "A extrair coodenadas geográficas...\n"
     ]
    }
   ],
   "source": [
    "def getCoordinates(dicX, dicY):\n",
    "    '''\n",
    "    Extração de coordenadas geográficas úteis ao harvest de dados meteorológicos.\n",
    "    Devolve um dicionário onde as chaves são os distritos, à qual está associado um tuplo com as               coordenadas Lat Long.\n",
    "    '''\n",
    "\n",
    "    coord = [dicX, dicY]\n",
    "    coordDic = {}\n",
    "    for i in dicX.keys():\n",
    "        coordDic[i] = tuple(coordDic[i] for coordDic in coord)\n",
    "    return coordDic\n",
    "\n",
    "print('A extrair coodenadas geográficas...')\n",
    "coord = getCoordinates(coordx, coordy)\n",
    "# print(coord)"
   ]
  },
  {
   "cell_type": "code",
   "execution_count": 73,
   "id": "compressed-import",
   "metadata": {},
   "outputs": [
    {
     "output_type": "execute_result",
     "data": {
      "text/plain": [
       "0"
      ]
     },
     "metadata": {},
     "execution_count": 73
    }
   ],
   "source": [
    "# Carregamento de shapefile \"distritos\" na bd\n",
    "command = [\"C:\\\\OSGeo4W64\\\\bin\\\\ogr2ogr.exe\",\n",
    "          \"-f\", \"PostgreSQL\",\n",
    "          \"PG:host=localhost user=postgres dbname=meteo password=3763\", outputPath,\n",
    "          \"-lco\", \"GEOMETRY_NAME=the_geom\", \"-lco\", \"FID=gid\", \"-lco\",\n",
    "          \" PRECISION=no\", \"-nlt\", \"PROMOTE_TO_MULTI\", \"-nln\", \"distritos\", \"-overwrite\"]\n",
    "subprocess.check_call(command)\n",
    "\n",
    "# Carregamento de shapefile \"centroides\" na bd\n",
    "command = [\"C:\\\\OSGeo4W64\\\\bin\\\\ogr2ogr.exe\",\n",
    "          \"-f\", \"PostgreSQL\",\n",
    "          \"PG:host=localhost user=postgres dbname=meteo password=3763\", outputPath,\n",
    "          \"-lco\", \"GEOMETRY_NAME=the_geom\", \"-lco\", \"FID=gid\", \"-lco\",\n",
    "          \" PRECISION=no\", \"-nlt\", \"PROMOTE_TO_MULTI\", \"-nln\", \"centroides\", \"-overwrite\"]\n",
    "subprocess.check_call(command)"
   ]
  },
  {
   "cell_type": "code",
   "execution_count": 80,
   "id": "applicable-anthropology",
   "metadata": {},
   "outputs": [
    {
     "output_type": "execute_result",
     "data": {
      "text/plain": [
       "            distrito forecast_date forecast_time weather_desc  temperature  \\\n",
       "0             Aveiro    26-03-2021      00:25:51       Clouds        11.11   \n",
       "1               Beja    26-03-2021      00:25:52        Clear        11.00   \n",
       "2              Braga    26-03-2021      00:25:52       Clouds         8.48   \n",
       "3           Bragança    26-03-2021      00:25:52       Clouds         8.44   \n",
       "4     Castelo Branco    26-03-2021      00:25:53       Clouds         6.53   \n",
       "5            Coimbra    26-03-2021      00:25:53       Clouds        10.35   \n",
       "6               Faro    26-03-2021      00:25:54        Clear        14.00   \n",
       "7             Guarda    26-03-2021      00:25:54       Clouds         5.36   \n",
       "8             Leiria    26-03-2021      00:25:54       Clouds         7.88   \n",
       "9             Lisboa    26-03-2021      00:25:55       Clouds        10.72   \n",
       "10        Portalegre    26-03-2021      00:25:55       Clouds        10.84   \n",
       "11             Porto    26-03-2021      00:25:56       Clouds         9.44   \n",
       "12          Santarém    26-03-2021      00:25:56       Clouds        10.93   \n",
       "13           Setúbal    26-03-2021      00:25:57        Clear        11.30   \n",
       "14  Viana do Castelo    26-03-2021      00:25:57       Clouds         9.47   \n",
       "15         Vila Real    26-03-2021      00:25:57       Clouds         7.45   \n",
       "16             Viseu    26-03-2021      00:25:58       Clouds         8.02   \n",
       "\n",
       "    feels_like  pressure  humidity  dew_point  ultrav_index  wind_speed  \\\n",
       "0         9.55      1025        83       8.34             0        1.68   \n",
       "1         8.75      1023        82       8.05             0        2.57   \n",
       "2         7.23      1023        89       6.77             0        0.72   \n",
       "3         6.30      1022        75       4.27             0        1.24   \n",
       "4         4.58      1014        91       5.17             0        1.23   \n",
       "5         9.84      1021        89       8.62             0        0.28   \n",
       "6        13.31      1023        88      12.05             0        1.89   \n",
       "7         2.58      1023        83       2.71             0        1.75   \n",
       "8         6.25      1025        94       6.98             0        1.32   \n",
       "9         9.36      1023        88       8.82             0        1.56   \n",
       "10       10.20      1021        86       8.59             0        0.45   \n",
       "11        8.02      1013        76       5.43             0        0.55   \n",
       "12        9.34      1019        85       8.51             0        1.79   \n",
       "13        8.75      1023        82       8.34             0        3.09   \n",
       "14        7.94      1023        81       6.38             0        0.99   \n",
       "15        4.44      1029        65       1.31             0        1.75   \n",
       "16        6.44      1023        83       5.31             0        0.74   \n",
       "\n",
       "    wind_deg  \n",
       "0         29  \n",
       "1        290  \n",
       "2         60  \n",
       "3        274  \n",
       "4        307  \n",
       "5        332  \n",
       "6         17  \n",
       "7        256  \n",
       "8         10  \n",
       "9        355  \n",
       "10       262  \n",
       "11       173  \n",
       "12       330  \n",
       "13       330  \n",
       "14        41  \n",
       "15       272  \n",
       "16       291  "
      ],
      "text/html": "<div>\n<style scoped>\n    .dataframe tbody tr th:only-of-type {\n        vertical-align: middle;\n    }\n\n    .dataframe tbody tr th {\n        vertical-align: top;\n    }\n\n    .dataframe thead th {\n        text-align: right;\n    }\n</style>\n<table border=\"1\" class=\"dataframe\">\n  <thead>\n    <tr style=\"text-align: right;\">\n      <th></th>\n      <th>distrito</th>\n      <th>forecast_date</th>\n      <th>forecast_time</th>\n      <th>weather_desc</th>\n      <th>temperature</th>\n      <th>feels_like</th>\n      <th>pressure</th>\n      <th>humidity</th>\n      <th>dew_point</th>\n      <th>ultrav_index</th>\n      <th>wind_speed</th>\n      <th>wind_deg</th>\n    </tr>\n  </thead>\n  <tbody>\n    <tr>\n      <th>0</th>\n      <td>Aveiro</td>\n      <td>26-03-2021</td>\n      <td>00:25:51</td>\n      <td>Clouds</td>\n      <td>11.11</td>\n      <td>9.55</td>\n      <td>1025</td>\n      <td>83</td>\n      <td>8.34</td>\n      <td>0</td>\n      <td>1.68</td>\n      <td>29</td>\n    </tr>\n    <tr>\n      <th>1</th>\n      <td>Beja</td>\n      <td>26-03-2021</td>\n      <td>00:25:52</td>\n      <td>Clear</td>\n      <td>11.00</td>\n      <td>8.75</td>\n      <td>1023</td>\n      <td>82</td>\n      <td>8.05</td>\n      <td>0</td>\n      <td>2.57</td>\n      <td>290</td>\n    </tr>\n    <tr>\n      <th>2</th>\n      <td>Braga</td>\n      <td>26-03-2021</td>\n      <td>00:25:52</td>\n      <td>Clouds</td>\n      <td>8.48</td>\n      <td>7.23</td>\n      <td>1023</td>\n      <td>89</td>\n      <td>6.77</td>\n      <td>0</td>\n      <td>0.72</td>\n      <td>60</td>\n    </tr>\n    <tr>\n      <th>3</th>\n      <td>Bragança</td>\n      <td>26-03-2021</td>\n      <td>00:25:52</td>\n      <td>Clouds</td>\n      <td>8.44</td>\n      <td>6.30</td>\n      <td>1022</td>\n      <td>75</td>\n      <td>4.27</td>\n      <td>0</td>\n      <td>1.24</td>\n      <td>274</td>\n    </tr>\n    <tr>\n      <th>4</th>\n      <td>Castelo Branco</td>\n      <td>26-03-2021</td>\n      <td>00:25:53</td>\n      <td>Clouds</td>\n      <td>6.53</td>\n      <td>4.58</td>\n      <td>1014</td>\n      <td>91</td>\n      <td>5.17</td>\n      <td>0</td>\n      <td>1.23</td>\n      <td>307</td>\n    </tr>\n    <tr>\n      <th>5</th>\n      <td>Coimbra</td>\n      <td>26-03-2021</td>\n      <td>00:25:53</td>\n      <td>Clouds</td>\n      <td>10.35</td>\n      <td>9.84</td>\n      <td>1021</td>\n      <td>89</td>\n      <td>8.62</td>\n      <td>0</td>\n      <td>0.28</td>\n      <td>332</td>\n    </tr>\n    <tr>\n      <th>6</th>\n      <td>Faro</td>\n      <td>26-03-2021</td>\n      <td>00:25:54</td>\n      <td>Clear</td>\n      <td>14.00</td>\n      <td>13.31</td>\n      <td>1023</td>\n      <td>88</td>\n      <td>12.05</td>\n      <td>0</td>\n      <td>1.89</td>\n      <td>17</td>\n    </tr>\n    <tr>\n      <th>7</th>\n      <td>Guarda</td>\n      <td>26-03-2021</td>\n      <td>00:25:54</td>\n      <td>Clouds</td>\n      <td>5.36</td>\n      <td>2.58</td>\n      <td>1023</td>\n      <td>83</td>\n      <td>2.71</td>\n      <td>0</td>\n      <td>1.75</td>\n      <td>256</td>\n    </tr>\n    <tr>\n      <th>8</th>\n      <td>Leiria</td>\n      <td>26-03-2021</td>\n      <td>00:25:54</td>\n      <td>Clouds</td>\n      <td>7.88</td>\n      <td>6.25</td>\n      <td>1025</td>\n      <td>94</td>\n      <td>6.98</td>\n      <td>0</td>\n      <td>1.32</td>\n      <td>10</td>\n    </tr>\n    <tr>\n      <th>9</th>\n      <td>Lisboa</td>\n      <td>26-03-2021</td>\n      <td>00:25:55</td>\n      <td>Clouds</td>\n      <td>10.72</td>\n      <td>9.36</td>\n      <td>1023</td>\n      <td>88</td>\n      <td>8.82</td>\n      <td>0</td>\n      <td>1.56</td>\n      <td>355</td>\n    </tr>\n    <tr>\n      <th>10</th>\n      <td>Portalegre</td>\n      <td>26-03-2021</td>\n      <td>00:25:55</td>\n      <td>Clouds</td>\n      <td>10.84</td>\n      <td>10.20</td>\n      <td>1021</td>\n      <td>86</td>\n      <td>8.59</td>\n      <td>0</td>\n      <td>0.45</td>\n      <td>262</td>\n    </tr>\n    <tr>\n      <th>11</th>\n      <td>Porto</td>\n      <td>26-03-2021</td>\n      <td>00:25:56</td>\n      <td>Clouds</td>\n      <td>9.44</td>\n      <td>8.02</td>\n      <td>1013</td>\n      <td>76</td>\n      <td>5.43</td>\n      <td>0</td>\n      <td>0.55</td>\n      <td>173</td>\n    </tr>\n    <tr>\n      <th>12</th>\n      <td>Santarém</td>\n      <td>26-03-2021</td>\n      <td>00:25:56</td>\n      <td>Clouds</td>\n      <td>10.93</td>\n      <td>9.34</td>\n      <td>1019</td>\n      <td>85</td>\n      <td>8.51</td>\n      <td>0</td>\n      <td>1.79</td>\n      <td>330</td>\n    </tr>\n    <tr>\n      <th>13</th>\n      <td>Setúbal</td>\n      <td>26-03-2021</td>\n      <td>00:25:57</td>\n      <td>Clear</td>\n      <td>11.30</td>\n      <td>8.75</td>\n      <td>1023</td>\n      <td>82</td>\n      <td>8.34</td>\n      <td>0</td>\n      <td>3.09</td>\n      <td>330</td>\n    </tr>\n    <tr>\n      <th>14</th>\n      <td>Viana do Castelo</td>\n      <td>26-03-2021</td>\n      <td>00:25:57</td>\n      <td>Clouds</td>\n      <td>9.47</td>\n      <td>7.94</td>\n      <td>1023</td>\n      <td>81</td>\n      <td>6.38</td>\n      <td>0</td>\n      <td>0.99</td>\n      <td>41</td>\n    </tr>\n    <tr>\n      <th>15</th>\n      <td>Vila Real</td>\n      <td>26-03-2021</td>\n      <td>00:25:57</td>\n      <td>Clouds</td>\n      <td>7.45</td>\n      <td>4.44</td>\n      <td>1029</td>\n      <td>65</td>\n      <td>1.31</td>\n      <td>0</td>\n      <td>1.75</td>\n      <td>272</td>\n    </tr>\n    <tr>\n      <th>16</th>\n      <td>Viseu</td>\n      <td>26-03-2021</td>\n      <td>00:25:58</td>\n      <td>Clouds</td>\n      <td>8.02</td>\n      <td>6.44</td>\n      <td>1023</td>\n      <td>83</td>\n      <td>5.31</td>\n      <td>0</td>\n      <td>0.74</td>\n      <td>291</td>\n    </tr>\n  </tbody>\n</table>\n</div>"
     },
     "metadata": {},
     "execution_count": 80
    }
   ],
   "source": [
    "apiKey = '44cfad7f82ec61d3f420de3201b703d4'\n",
    "\n",
    "def getWeather(coordDic, apikey):\n",
    "    '''\n",
    "    Função para recolha dos dados meteorológicos provenientes da OpenWeather One Call API.\n",
    "    Devolve uma dataframe das váriáveis meteorológicas por distrito.\n",
    "    '''\n",
    "    forecast = []\n",
    "    for item in coord.items():\n",
    "        lat = str(item[1][1])\n",
    "        long = str(item[1][0])\n",
    "        url = 'https://api.openweathermap.org/data/2.5/onecall?lat=' + lat + '&lon=' + long + \\\n",
    "            '&exclude=minutely,hourly,daily,alerts&appid=' + apiKey + '&units=metric'\n",
    "        with urllib.request.urlopen(url) as url:\n",
    "            data = json.loads(url.read().decode())\n",
    "            districtForecast = {}\n",
    "            districtForecast['distrito'] = item[0]\n",
    "            districtForecast['forecast_date'] = datetime.utcfromtimestamp(data.get('current').get('dt')).strftime('%d-%m-%Y')\n",
    "            districtForecast['forecast_time'] = datetime.utcfromtimestamp(data.get('current').get('dt')).strftime('%H:%M:%S')\n",
    "            main = data.get('current').get('weather')\n",
    "            for item in main:\n",
    "                districtForecast['weather_desc'] = item.get('main')\n",
    "            districtForecast['temperature'] = data.get('current').get('temp')\n",
    "            districtForecast['feels_like'] = data.get('current').get('feels_like')\n",
    "            districtForecast['pressure'] = data.get('current').get('pressure')\n",
    "            districtForecast['humidity'] = data.get('current').get('humidity')\n",
    "            districtForecast['dew_point'] = data.get('current').get('dew_point')\n",
    "            districtForecast['ultrav_index'] = data.get('current').get('uvi')\n",
    "            districtForecast['wind_speed'] = data.get('current').get('wind_speed')\n",
    "            districtForecast['wind_deg'] = data.get('current').get('wind_deg')\n",
    "            forecast.append(districtForecast)\n",
    "    forecast_df = pandas.DataFrame(forecast)\n",
    "    return forecast_df\n",
    "\n",
    "forecast_df = getWeather(coord, apiKey)\n",
    "forecast_df.head(-1)"
   ]
  },
  {
   "cell_type": "code",
   "execution_count": 82,
   "metadata": {},
   "outputs": [
    {
     "output_type": "stream",
     "name": "stdout",
     "text": [
      "dfToPgSQL() done\n"
     ]
    }
   ],
   "source": [
    "os.chdir(basePath)\n",
    "\n",
    "password = open(os.path.join('pw.txt'), 'r').readline()\n",
    "password = str(password)\n",
    "\n",
    "con = psycopg2.connect(dbname='meteo', user='postgres', password=password, host='localhost', port='5432')\n",
    "\n",
    "def df2PgSQL(conn, df, table):\n",
    "    '''\n",
    "    Utilização da função psycopg2.extras.execute_values()\n",
    "    para carregamento da data frame colhida na tabela PostGreSQL \"forecast\"\n",
    "    '''\n",
    "    # Create a list of tupples from the dataframe values\n",
    "    tuples = [tuple(x) for x in df.to_numpy()]\n",
    "    # Comma-separated dataframe columns\n",
    "    cols = ','.join(list(df.columns))\n",
    "    # SQL quert to execute\n",
    "    query  = \"INSERT INTO %s(%s) VALUES %%s\" % (table, cols)\n",
    "    cursor = conn.cursor()\n",
    "    try:\n",
    "        psy2extras.execute_values(cursor, query, tuples)\n",
    "        conn.commit()\n",
    "    except (Exception, psycopg2.DatabaseError) as error:\n",
    "        print(\"Error: %s\" % error)\n",
    "        conn.rollback()\n",
    "        cursor.close()\n",
    "        return 1\n",
    "    print(\"dfToPgSQL() done\")\n",
    "    cursor.close()\n",
    "\n",
    "df2PgSQL(con, forecast_df, 'forecast')"
   ]
  },
  {
   "cell_type": "code",
   "execution_count": 74,
   "metadata": {},
   "outputs": [],
   "source": [
    "# # Carregamento de shapefile \"caop\" na bd\n",
    "# command = [\"C:\\\\OSGeo4W64\\\\bin\\\\ogr2ogr.exe\",\n",
    "#           \"-f\", \"PostgreSQL\",\n",
    "#           \"PG:host=localhost user=postgres dbname=meteo password=3763\",\n",
    "#           outputPath,\n",
    "#           \"-lco\", \"GEOMETRY_NAME=the_geom\", \"-lco\", \"FID=gid\", \"-lco\",\n",
    "#           \" PRECISION=no\", \"-nlt\", \"PROMOTE_TO_MULTI\", \"-nln\", \"caop\", \"-overwrite\"]\n",
    "\n",
    "# subprocess.check_call(command)\n",
    "\n",
    "# pgConnectionPar = {'host':'localhost', 'user':'postgres', 'dbname':'meteo', 'password':'3763'}\n",
    "\n",
    "# def shp2PgSQL(shp, pgconn):\n",
    "#     command = [\"C:\\\\OSGeo4W64\\\\bin\\\\ogr2ogr.exe\",\n",
    "#             \"-f\", \"PostgreSQL\",\n",
    "#             \"PG:host={} user={} dbname={} password={}\".format(pgconn.get('host'),\\\n",
    "#             pgconn.get('user'), pgconn.get('dbname'), pgconn.get('password')),\n",
    "#             outputPath,\n",
    "#             \"-lco\", \"GEOMETRY_NAME=the_geom\", \"-lco\", \"FID=gid\", \"-lco\",\n",
    "#             \" PRECISION=no\", \"-nlt\", \"PROMOTE_TO_MULTI\", \"-nln\", shp+'.shp', \"-overwrite\"]\n",
    "#     exe = subprocess.Popen(command,stdout=subprocess.PIPE, stderr=subprocess.STDOUT, shell=True)\n",
    "#     for line in exe.stdout:\n",
    "#         line = str(line.decode('utf-8'))\n",
    "#         line_txt = re.sub(\"\\r?\\n\", '', line)\n",
    "#         print(line_txt)\n",
    "\n",
    "# shp2PgSQL('caop', pgConnectionPar)\n"
   ]
  },
  {
   "cell_type": "code",
   "execution_count": null,
   "metadata": {},
   "outputs": [],
   "source": [
    "# falta criar código para produção de view dentro da base de dados + join com caop poligonal\n",
    "\n",
    "drop view if exists last_forecast;\n",
    "create view last_forecast as\n",
    "select forecast.*, centroides.the_geom\n",
    "from forecast, centroides\n",
    "where forecast.distrito = centroides.distrito\n",
    "order by forecast.forecast_id desc limit 18"
   ]
  },
  {
   "cell_type": "code",
   "execution_count": 41,
   "metadata": {},
   "outputs": [
    {
     "output_type": "execute_result",
     "data": {
      "text/plain": [
       "'201 Workspace sapsig_meteo created!'"
      ]
     },
     "metadata": {},
     "execution_count": 41
    }
   ],
   "source": [
    "# Start Geoerver with start \"\" /D C:\\\"Program Files\"\\geoserver\\bin\\ /W startup.bat\n",
    "\n",
    "# Initialize the library\n",
    "geo = Geoserver('http://localhost:8080/geoserver', username='admin', password='geojoao')\n",
    "\n",
    "# # For creating workspace\n",
    "geo.create_workspace(workspace='sapsig_meteo')"
   ]
  }
 ],
 "metadata": {
  "kernelspec": {
   "display_name": "Python 3",
   "language": "python",
   "name": "python3"
  },
  "language_info": {
   "codemirror_mode": {
    "name": "ipython",
    "version": 3
   },
   "file_extension": ".py",
   "mimetype": "text/x-python",
   "name": "python",
   "nbconvert_exporter": "python",
   "pygments_lexer": "ipython3",
   "version": "3.8.8-final"
  }
 },
 "nbformat": 4,
 "nbformat_minor": 5
}