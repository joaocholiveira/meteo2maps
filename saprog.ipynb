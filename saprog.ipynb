{
 "cells": [
  {
   "cell_type": "code",
   "execution_count": 29,
   "id": "pharmaceutical-moore",
   "metadata": {},
   "outputs": [],
   "source": [
    "import os, urllib.request, json, subprocess, geopandas, pandas, psycopg2, shutil\n",
    "from datetime import datetime"
   ]
  },
  {
   "cell_type": "code",
   "execution_count": 31,
   "id": "smooth-convergence",
   "metadata": {},
   "outputs": [
    {
     "output_type": "stream",
     "name": "stdout",
     "text": [
      "A limpar e criar directoria de outputs...\n"
     ]
    }
   ],
   "source": [
    "os.environ['SHAPE_ENCODING'] = \"utf-8\"\n",
    "basePath = 'C:\\\\saprog\\\\projeto'\n",
    "outputPath = 'C:\\\\saprog\\\\projeto\\\\output'\n",
    "os.chdir(basePath)\n",
    "\n",
    "def deleteAndCreateOutput():\n",
    "    print ('A limpar e criar directoria de outputs...')\n",
    "    outDir = os.path.join(basePath, 'output')\n",
    "    if os.path.isdir(outDir):\n",
    "        shutil.rmtree(outDir)\n",
    "    os.mkdir(outDir)\n",
    "\n",
    "deleteAndCreateOutput()"
   ]
  },
  {
   "cell_type": "code",
   "execution_count": 32,
   "id": "impaired-herald",
   "metadata": {},
   "outputs": [
    {
     "output_type": "stream",
     "name": "stdout",
     "text": [
      "A ler shapefile...\n"
     ]
    }
   ],
   "source": [
    "print('A ler shapefile...')\n",
    "caop = geopandas.read_file('caop.shp',encoding='utf-8')\n",
    "# caop.plot()\n",
    "# caop.head()\n",
    "# gdf = caop.loc[caop['Concelho'] == 'Bombarral']\n",
    "# gdf.head()"
   ]
  },
  {
   "cell_type": "code",
   "execution_count": 33,
   "id": "painful-officer",
   "metadata": {},
   "outputs": [
    {
     "output_type": "stream",
     "name": "stdout",
     "text": [
      "A executar Dissolve...\n"
     ]
    }
   ],
   "source": [
    "print('A executar Dissolve...')\n",
    "distritos = caop.dissolve(by = 'Distrito')\n",
    "# distritos.plot()\n",
    "# distritos.head(1)"
   ]
  },
  {
   "cell_type": "code",
   "execution_count": 34,
   "id": "honey-communication",
   "metadata": {},
   "outputs": [
    {
     "output_type": "stream",
     "name": "stdout",
     "text": [
      "A extrair centroides das regiões admninistrativas...\n",
      "<ipython-input-34-0e4526db8df1>:6: UserWarning: Geometry is in a geographic CRS. Results from 'centroid' are likely incorrect. Use 'GeoSeries.to_crs()' to re-project geometries to a projected CRS before this operation.\n",
      "\n",
      "  centroides = distritos.centroid\n"
     ]
    }
   ],
   "source": [
    "print('A extrair centroides das regiões admninistrativas...')\n",
    "shpOutput = os.path.join(outputPath, 'centroides.shp')\n",
    "\n",
    "# dataProj = distritos.to_crs(epsg = 3763)\n",
    "# centroides = dataProj.centroid\n",
    "centroides = distritos.centroid\n",
    "centroides.to_file(shpOutput, encoding='utf-8')\n",
    "# centroides.plot()\n",
    "# centroides.head()\n",
    "\n",
    "coordx = centroides.x.to_dict()\n",
    "coordy = centroides.y.to_dict()\n",
    "# print(coordx)\n",
    "# print(coordy)"
   ]
  },
  {
   "cell_type": "code",
   "execution_count": 39,
   "id": "according-thompson",
   "metadata": {},
   "outputs": [
    {
     "output_type": "stream",
     "name": "stdout",
     "text": [
      "A extrair coodenadas geográficas...\n"
     ]
    }
   ],
   "source": [
    "def getCoordinates(dicX, dicY):\n",
    "    '''\n",
    "    Extração de coordenadas geográficas úteis ao harvest de dados meteorológicos.\n",
    "    Devolve um dicionário onde as chaves são os distritos, à qual está associado um tuplo com as coordenadas Lat Long.\n",
    "    '''\n",
    "\n",
    "    coord = [dicX, dicY]\n",
    "    coordDic = {}\n",
    "    for i in dicX.keys():\n",
    "        coordDic[i] = tuple(coordDic[i] for coordDic in coord)\n",
    "    return coordDic\n",
    "\n",
    "print('A extrair coodenadas geográficas...')\n",
    "coord = getCoordinates(coordx, coordy)\n",
    "# print(coord)"
   ]
  },
  {
   "cell_type": "code",
   "execution_count": 36,
   "id": "compressed-import",
   "metadata": {},
   "outputs": [],
   "source": [
    "# Carregamento de shapefile na bd\n",
    "# command = [\"C:\\\\OSGeo4W64\\\\bin\\\\ogr2ogr.exe\",\n",
    "#           \"-f\", \"PostgreSQL\",\n",
    "#           \"PG:host=localhost user=postgres dbname=meteo password=3763\",\n",
    "#           shpOutput,\n",
    "#           \"-lco\", \"GEOMETRY_NAME=the_geom\", \"-lco\", \"FID=gid\", \"-lco\",\n",
    "#           \" PRECISION=no\", \"-nlt\", \"PROMOTE_TO_MULTI\", \"-nln\", \"centroides\", \"-overwrite\"]\n",
    "# subprocess.check_call(command)"
   ]
  },
  {
   "cell_type": "code",
   "execution_count": 53,
   "id": "applicable-anthropology",
   "metadata": {},
   "outputs": [],
   "source": [
    "apiKey = '44cfad7f82ec61d3f420de3201b703d4'\n",
    "\n",
    "def getWeather(coordDic, apikey):\n",
    "    '''\n",
    "    Função para recolha dos dados meteorológicos provenientes da OpenWeather One Call API.\n",
    "    Devolve uma dataframe das váriáveis meteorológicas por distrito.\n",
    "    '''\n",
    "    forecast = []\n",
    "    for item in coord.items():\n",
    "        lat = str(item[1][1])\n",
    "        long = str(item[1][0])\n",
    "        url = 'https://api.openweathermap.org/data/2.5/onecall?lat=' + lat + '&lon=' + long + \\\n",
    "            '&exclude=minutely,hourly,daily,alerts&appid=' + apiKey + '&units=metric'\n",
    "        with urllib.request.urlopen(url) as url:\n",
    "            data = json.loads(url.read().decode())\n",
    "            districtForecast = {}\n",
    "            districtForecast['distrito'] = item[0]\n",
    "            districtForecast['forecast_date'] = datetime.utcfromtimestamp(data.get('current').get('dt')).strftime('%d-%m-%Y')\n",
    "            districtForecast['forecast_time'] = datetime.utcfromtimestamp(data.get('current').get('dt')).strftime('%H:%M:%S')\n",
    "            main = data.get('current').get('weather')\n",
    "            for item in main:\n",
    "                districtForecast['weather_desc'] = item.get('main')\n",
    "            districtForecast['temperature'] = data.get('current').get('temp')\n",
    "            districtForecast['feels_like'] = data.get('current').get('feels_like')\n",
    "            districtForecast['pressure'] = data.get('current').get('pressure')\n",
    "            districtForecast['humidity'] = data.get('current').get('humidity')\n",
    "            districtForecast['dew_point'] = data.get('current').get('dew_point')\n",
    "            districtForecast['ultrav_index'] = data.get('current').get('uvi')\n",
    "            districtForecast['wind_speed'] = data.get('current').get('wind_speed')\n",
    "            districtForecast['wind_deg'] = data.get('current').get('wind_deg')\n",
    "            forecast.append(districtForecast)\n",
    "    return forecast_df\n",
    "\n",
    "forecast_df = getWeather(coord, apiKey)\n",
    "# forecast_df.head(-1)"
   ]
  },
  {
   "cell_type": "code",
   "execution_count": 54,
   "metadata": {},
   "outputs": [
    {
     "output_type": "stream",
     "name": "stdout",
     "text": [
      "dfToPgSQL() done\n"
     ]
    }
   ],
   "source": [
    "password = open(os.path.join('pw.txt'), 'r').readline()\n",
    "password = str(password)\n",
    "\n",
    "con = psycopg2.connect(dbname='meteo', user='postgres', password=password, host='localhost', port='5432')\n",
    "\n",
    "def dfToPgSQL(conn, df, table):\n",
    "    '''\n",
    "    Utilização da função psycopg2.extras.execute_values()\n",
    "    para carregamento da data frame colhida na tabela PostGreSQL \"forecast\"\n",
    "    '''\n",
    "    # Create a list of tupples from the dataframe values\n",
    "    tuples = [tuple(x) for x in df.to_numpy()]\n",
    "    # Comma-separated dataframe columns\n",
    "    cols = ','.join(list(df.columns))\n",
    "    # SQL quert to execute\n",
    "    query  = \"INSERT INTO %s(%s) VALUES %%s\" % (table, cols)\n",
    "    cursor = conn.cursor()\n",
    "    try:\n",
    "        psycopg2.extras.execute_values(cursor, query, tuples)\n",
    "        conn.commit()\n",
    "    except (Exception, psycopg2.DatabaseError) as error:\n",
    "        print(\"Error: %s\" % error)\n",
    "        conn.rollback()\n",
    "        cursor.close()\n",
    "        return 1\n",
    "    print(\"dfToPgSQL() done\")\n",
    "    cursor.close()\n",
    "\n",
    "dfToPgSQL(con, forecast_df, 'forecast')"
   ]
  },
  {
   "cell_type": "code",
   "execution_count": null,
   "metadata": {},
   "outputs": [],
   "source": []
  }
 ],
 "metadata": {
  "kernelspec": {
   "display_name": "Python 3",
   "language": "python",
   "name": "python3"
  },
  "language_info": {
   "codemirror_mode": {
    "name": "ipython",
    "version": 3
   },
   "file_extension": ".py",
   "mimetype": "text/x-python",
   "name": "python",
   "nbconvert_exporter": "python",
   "pygments_lexer": "ipython3",
   "version": "3.8.8-final"
  }
 },
 "nbformat": 4,
 "nbformat_minor": 5
}