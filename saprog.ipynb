{
 "cells": [
  {
   "cell_type": "code",
   "execution_count": null,
   "id": "pharmaceutical-moore",
   "metadata": {},
   "outputs": [],
   "source": [
    "import os, urllib.request, json, shapefile, shutil, subprocess, csv, fiona, shapely, geopandas, pandas\n",
    "import psycopg2.extras as pgextras\n",
    "from osgeo import gdal, ogr, osr\n",
    "from datetime import datetime"
   ]
  },
  {
   "cell_type": "code",
   "execution_count": null,
   "id": "smooth-convergence",
   "metadata": {},
   "outputs": [],
   "source": [
    "os.environ['SHAPE_ENCODING'] = \"utf-8\"\n",
    "basePath = 'C:\\\\saprog\\\\projeto'\n",
    "outputPath = 'C:\\\\saprog\\\\projeto\\\\output'\n",
    "os.chdir(basePath)\n",
    "\n",
    "def deleteAndCreateOutput():\n",
    "    print ('A limpar e criar directoria de outputs...')\n",
    "    outDir = os.path.join(basePath, 'output')\n",
    "    if os.path.isdir(outDir):\n",
    "        shutil.rmtree(outDir)\n",
    "    os.mkdir(outDir)\n",
    "\n",
    "deleteAndCreateOutput()"
   ]
  },
  {
   "cell_type": "code",
   "execution_count": null,
   "id": "impaired-herald",
   "metadata": {},
   "outputs": [],
   "source": [
    "print('A ler shapefile...')\n",
    "caop = geopandas.read_file('caop.shp',encoding='utf-8')\n",
    "# caop.plot()\n",
    "# caop.head()\n",
    "# gdf = caop.loc[caop['Concelho'] == 'Bombarral']\n",
    "# gdf.head()"
   ]
  },
  {
   "cell_type": "code",
   "execution_count": null,
   "id": "painful-officer",
   "metadata": {},
   "outputs": [],
   "source": [
    "print('A executar Dissolve...')\n",
    "distritos = caop.dissolve(by = 'Distrito')\n",
    "# distritos.plot()\n",
    "# distritos.head(1)"
   ]
  },
  {
   "cell_type": "code",
   "execution_count": null,
   "id": "honey-communication",
   "metadata": {},
   "outputs": [],
   "source": [
    "print('A extrair centroides das regiões admninistrativas...')\n",
    "shpOutput = os.path.join(outputPath, 'centroides.shp')\n",
    "\n",
    "# dataProj = distritos.to_crs(epsg = 3763)\n",
    "# centroides = dataProj.centroid\n",
    "centroides = distritos.centroid\n",
    "centroides.to_file(shpOutput, encoding='utf-8')\n",
    "# centroides.plot()\n",
    "# centroides.head()"
   ]
  },
  {
   "cell_type": "code",
   "execution_count": null,
   "id": "according-thompson",
   "metadata": {},
   "outputs": [],
   "source": [
    "coordx = centroides.x.to_dict()\n",
    "coordy = centroides.y.to_dict()\n",
    "# print(coordx)\n",
    "# print(coordy)\n",
    "\n",
    "def getCoordinates(dicX, dicY):\n",
    "    coord = [dicX, dicY]\n",
    "    coordDic = {}\n",
    "    for i in dicX.keys():\n",
    "        coordDic[i] = tuple(coordDic[i] for coordDic in coord)\n",
    "    return coordDic\n",
    "\n",
    "print('A extrair coodenadas geográficas...')\n",
    "coord = getCoordinates(coordx, coordy)"
   ]
  },
  {
   "cell_type": "code",
   "execution_count": null,
   "id": "compressed-import",
   "metadata": {},
   "outputs": [],
   "source": [
    "# Carregamento de shapefile na bd\n",
    "# command = [\"C:\\\\OSGeo4W64\\\\bin\\\\ogr2ogr.exe\",\n",
    "#           \"-f\", \"PostgreSQL\",\n",
    "#           \"PG:host=localhost user=postgres dbname=meteo password=3763\",\n",
    "#           shpOutput,\n",
    "#           \"-lco\", \"GEOMETRY_NAME=the_geom\", \"-lco\", \"FID=gid\", \"-lco\",\n",
    "#           \" PRECISION=no\", \"-nlt\", \"PROMOTE_TO_MULTI\", \"-nln\", \"centroides\", \"-overwrite\"]\n",
    "# subprocess.check_call(command)"
   ]
  },
  {
   "cell_type": "code",
   "execution_count": 49,
   "id": "applicable-anthropology",
   "metadata": {},
   "outputs": [
    {
     "output_type": "execute_result",
     "data": {
      "text/plain": [
       "            distrito forecast_date forecast_time weather_desc  temperature  \\\n",
       "0             Aveiro    14-03-2021      18:02:38        Clear        14.40   \n",
       "1               Beja    14-03-2021      18:02:38        Clear        19.00   \n",
       "2              Braga    14-03-2021      18:02:38       Clouds        16.01   \n",
       "3           Bragança    14-03-2021      18:02:39       Clouds        11.91   \n",
       "4     Castelo Branco    14-03-2021      18:02:39        Clear        15.56   \n",
       "5            Coimbra    14-03-2021      18:02:39       Clouds        14.73   \n",
       "6               Faro    14-03-2021      18:02:39        Clear        17.00   \n",
       "7             Guarda    14-03-2021      18:02:40        Clear        15.56   \n",
       "8             Leiria    14-03-2021      18:02:40        Clear        15.22   \n",
       "9             Lisboa    14-03-2021      18:02:40        Clear        14.59   \n",
       "10        Portalegre    14-03-2021      18:02:40        Clear        18.89   \n",
       "11             Porto    14-03-2021      18:02:41        Clear        15.91   \n",
       "12          Santarém    14-03-2021      18:02:41       Clouds        15.98   \n",
       "13           Setúbal    14-03-2021      18:02:41        Clear        15.74   \n",
       "14  Viana do Castelo    14-03-2021      18:02:42       Clouds        13.88   \n",
       "15         Vila Real    14-03-2021      18:02:42        Clear        14.53   \n",
       "16             Viseu    14-03-2021      18:02:42        Clear        16.33   \n",
       "\n",
       "    feels_like  pressure  humidity  dew_point  ultrav_index  wind_speed  \\\n",
       "0         8.53      1026        72       9.42          0.00        8.23   \n",
       "1        15.15      1024        42       5.81          0.00        4.12   \n",
       "2        14.99      1026        55       6.98          0.00        0.45   \n",
       "3        10.22      1025        65       5.55          0.00        0.96   \n",
       "4        13.04      1016        47       4.30          0.00        1.79   \n",
       "5        13.58      1026        82      11.69          0.00        2.39   \n",
       "6        14.03      1022        67      10.84          0.10        4.63   \n",
       "7        12.90      1025        50       5.19          0.00        2.24   \n",
       "8         9.28      1026        67       9.14          0.10        8.23   \n",
       "9        10.46      1023        32      -1.68          0.11        2.68   \n",
       "10       17.75      1022        53       9.11          0.00        1.36   \n",
       "11       14.41      1027        72      10.87          0.00        2.55   \n",
       "12       14.77      1027        57       7.48          0.00        0.89   \n",
       "13       11.38      1024        55       6.73          0.10        5.14   \n",
       "14       12.20      1028        72       8.92          0.00        2.06   \n",
       "15       10.63      1034        19      -7.84          0.00        1.34   \n",
       "16       13.82      1025        50       5.90          0.00        2.24   \n",
       "\n",
       "    wind_deg  \n",
       "0        350  \n",
       "1         20  \n",
       "2          5  \n",
       "3        353  \n",
       "4         63  \n",
       "5        311  \n",
       "6        260  \n",
       "7         49  \n",
       "8        360  \n",
       "9         19  \n",
       "10        57  \n",
       "11       315  \n",
       "12         0  \n",
       "13       360  \n",
       "14        10  \n",
       "15       142  \n",
       "16        49  "
      ],
      "text/html": "<div>\n<style scoped>\n    .dataframe tbody tr th:only-of-type {\n        vertical-align: middle;\n    }\n\n    .dataframe tbody tr th {\n        vertical-align: top;\n    }\n\n    .dataframe thead th {\n        text-align: right;\n    }\n</style>\n<table border=\"1\" class=\"dataframe\">\n  <thead>\n    <tr style=\"text-align: right;\">\n      <th></th>\n      <th>distrito</th>\n      <th>forecast_date</th>\n      <th>forecast_time</th>\n      <th>weather_desc</th>\n      <th>temperature</th>\n      <th>feels_like</th>\n      <th>pressure</th>\n      <th>humidity</th>\n      <th>dew_point</th>\n      <th>ultrav_index</th>\n      <th>wind_speed</th>\n      <th>wind_deg</th>\n    </tr>\n  </thead>\n  <tbody>\n    <tr>\n      <th>0</th>\n      <td>Aveiro</td>\n      <td>14-03-2021</td>\n      <td>18:02:38</td>\n      <td>Clear</td>\n      <td>14.40</td>\n      <td>8.53</td>\n      <td>1026</td>\n      <td>72</td>\n      <td>9.42</td>\n      <td>0.00</td>\n      <td>8.23</td>\n      <td>350</td>\n    </tr>\n    <tr>\n      <th>1</th>\n      <td>Beja</td>\n      <td>14-03-2021</td>\n      <td>18:02:38</td>\n      <td>Clear</td>\n      <td>19.00</td>\n      <td>15.15</td>\n      <td>1024</td>\n      <td>42</td>\n      <td>5.81</td>\n      <td>0.00</td>\n      <td>4.12</td>\n      <td>20</td>\n    </tr>\n    <tr>\n      <th>2</th>\n      <td>Braga</td>\n      <td>14-03-2021</td>\n      <td>18:02:38</td>\n      <td>Clouds</td>\n      <td>16.01</td>\n      <td>14.99</td>\n      <td>1026</td>\n      <td>55</td>\n      <td>6.98</td>\n      <td>0.00</td>\n      <td>0.45</td>\n      <td>5</td>\n    </tr>\n    <tr>\n      <th>3</th>\n      <td>Bragança</td>\n      <td>14-03-2021</td>\n      <td>18:02:39</td>\n      <td>Clouds</td>\n      <td>11.91</td>\n      <td>10.22</td>\n      <td>1025</td>\n      <td>65</td>\n      <td>5.55</td>\n      <td>0.00</td>\n      <td>0.96</td>\n      <td>353</td>\n    </tr>\n    <tr>\n      <th>4</th>\n      <td>Castelo Branco</td>\n      <td>14-03-2021</td>\n      <td>18:02:39</td>\n      <td>Clear</td>\n      <td>15.56</td>\n      <td>13.04</td>\n      <td>1016</td>\n      <td>47</td>\n      <td>4.30</td>\n      <td>0.00</td>\n      <td>1.79</td>\n      <td>63</td>\n    </tr>\n    <tr>\n      <th>5</th>\n      <td>Coimbra</td>\n      <td>14-03-2021</td>\n      <td>18:02:39</td>\n      <td>Clouds</td>\n      <td>14.73</td>\n      <td>13.58</td>\n      <td>1026</td>\n      <td>82</td>\n      <td>11.69</td>\n      <td>0.00</td>\n      <td>2.39</td>\n      <td>311</td>\n    </tr>\n    <tr>\n      <th>6</th>\n      <td>Faro</td>\n      <td>14-03-2021</td>\n      <td>18:02:39</td>\n      <td>Clear</td>\n      <td>17.00</td>\n      <td>14.03</td>\n      <td>1022</td>\n      <td>67</td>\n      <td>10.84</td>\n      <td>0.10</td>\n      <td>4.63</td>\n      <td>260</td>\n    </tr>\n    <tr>\n      <th>7</th>\n      <td>Guarda</td>\n      <td>14-03-2021</td>\n      <td>18:02:40</td>\n      <td>Clear</td>\n      <td>15.56</td>\n      <td>12.90</td>\n      <td>1025</td>\n      <td>50</td>\n      <td>5.19</td>\n      <td>0.00</td>\n      <td>2.24</td>\n      <td>49</td>\n    </tr>\n    <tr>\n      <th>8</th>\n      <td>Leiria</td>\n      <td>14-03-2021</td>\n      <td>18:02:40</td>\n      <td>Clear</td>\n      <td>15.22</td>\n      <td>9.28</td>\n      <td>1026</td>\n      <td>67</td>\n      <td>9.14</td>\n      <td>0.10</td>\n      <td>8.23</td>\n      <td>360</td>\n    </tr>\n    <tr>\n      <th>9</th>\n      <td>Lisboa</td>\n      <td>14-03-2021</td>\n      <td>18:02:40</td>\n      <td>Clear</td>\n      <td>14.59</td>\n      <td>10.46</td>\n      <td>1023</td>\n      <td>32</td>\n      <td>-1.68</td>\n      <td>0.11</td>\n      <td>2.68</td>\n      <td>19</td>\n    </tr>\n    <tr>\n      <th>10</th>\n      <td>Portalegre</td>\n      <td>14-03-2021</td>\n      <td>18:02:40</td>\n      <td>Clear</td>\n      <td>18.89</td>\n      <td>17.75</td>\n      <td>1022</td>\n      <td>53</td>\n      <td>9.11</td>\n      <td>0.00</td>\n      <td>1.36</td>\n      <td>57</td>\n    </tr>\n    <tr>\n      <th>11</th>\n      <td>Porto</td>\n      <td>14-03-2021</td>\n      <td>18:02:41</td>\n      <td>Clear</td>\n      <td>15.91</td>\n      <td>14.41</td>\n      <td>1027</td>\n      <td>72</td>\n      <td>10.87</td>\n      <td>0.00</td>\n      <td>2.55</td>\n      <td>315</td>\n    </tr>\n    <tr>\n      <th>12</th>\n      <td>Santarém</td>\n      <td>14-03-2021</td>\n      <td>18:02:41</td>\n      <td>Clouds</td>\n      <td>15.98</td>\n      <td>14.77</td>\n      <td>1027</td>\n      <td>57</td>\n      <td>7.48</td>\n      <td>0.00</td>\n      <td>0.89</td>\n      <td>0</td>\n    </tr>\n    <tr>\n      <th>13</th>\n      <td>Setúbal</td>\n      <td>14-03-2021</td>\n      <td>18:02:41</td>\n      <td>Clear</td>\n      <td>15.74</td>\n      <td>11.38</td>\n      <td>1024</td>\n      <td>55</td>\n      <td>6.73</td>\n      <td>0.10</td>\n      <td>5.14</td>\n      <td>360</td>\n    </tr>\n    <tr>\n      <th>14</th>\n      <td>Viana do Castelo</td>\n      <td>14-03-2021</td>\n      <td>18:02:42</td>\n      <td>Clouds</td>\n      <td>13.88</td>\n      <td>12.20</td>\n      <td>1028</td>\n      <td>72</td>\n      <td>8.92</td>\n      <td>0.00</td>\n      <td>2.06</td>\n      <td>10</td>\n    </tr>\n    <tr>\n      <th>15</th>\n      <td>Vila Real</td>\n      <td>14-03-2021</td>\n      <td>18:02:42</td>\n      <td>Clear</td>\n      <td>14.53</td>\n      <td>10.63</td>\n      <td>1034</td>\n      <td>19</td>\n      <td>-7.84</td>\n      <td>0.00</td>\n      <td>1.34</td>\n      <td>142</td>\n    </tr>\n    <tr>\n      <th>16</th>\n      <td>Viseu</td>\n      <td>14-03-2021</td>\n      <td>18:02:42</td>\n      <td>Clear</td>\n      <td>16.33</td>\n      <td>13.82</td>\n      <td>1025</td>\n      <td>50</td>\n      <td>5.90</td>\n      <td>0.00</td>\n      <td>2.24</td>\n      <td>49</td>\n    </tr>\n  </tbody>\n</table>\n</div>"
     },
     "metadata": {},
     "execution_count": 49
    }
   ],
   "source": [
    "apiKey = '44cfad7f82ec61d3f420de3201b703d4'\n",
    "\n",
    "def getWeather(coordDic, apikey):\n",
    "    forecast = []\n",
    "    for item in coord.items():\n",
    "        lat = str(item[1][1])\n",
    "        long = str(item[1][0])\n",
    "        url = 'https://api.openweathermap.org/data/2.5/onecall?lat=' + lat + '&lon=' + long + \\\n",
    "            '&exclude=minutely,hourly,daily,alerts&appid=' + apiKey + '&units=metric'\n",
    "        with urllib.request.urlopen(url) as url:\n",
    "            data = json.loads(url.read().decode())\n",
    "            districtForecast = {}\n",
    "            districtForecast['distrito'] = item[0]\n",
    "            districtForecast['forecast_date'] = datetime.utcfromtimestamp(data.get('current').get('dt')).strftime('%d-%m-%Y')\n",
    "            districtForecast['forecast_time'] = datetime.utcfromtimestamp(data.get('current').get('dt')).strftime('%H:%M:%S')\n",
    "            main = data.get('current').get('weather')\n",
    "            for item in main:\n",
    "                districtForecast['weather_desc'] = item.get('main')\n",
    "            districtForecast['temperature'] = data.get('current').get('temp')\n",
    "            districtForecast['feels_like'] = data.get('current').get('feels_like')\n",
    "            districtForecast['pressure'] = data.get('current').get('pressure')\n",
    "            districtForecast['humidity'] = data.get('current').get('humidity')\n",
    "            districtForecast['dew_point'] = data.get('current').get('dew_point')\n",
    "            districtForecast['ultrav_index'] = data.get('current').get('uvi')\n",
    "            districtForecast['wind_speed'] = data.get('current').get('wind_speed')\n",
    "            districtForecast['wind_deg'] = data.get('current').get('wind_deg')\n",
    "            forecast.append(districtForecast)\n",
    "    return forecast\n",
    "\n",
    "forecast_df = pandas.DataFrame(getWeather(coord, apiKey))\n",
    "forecast_df.head(-1)"
   ]
  },
  {
   "cell_type": "code",
   "execution_count": 50,
   "metadata": {},
   "outputs": [
    {
     "output_type": "stream",
     "name": "stdout",
     "text": [
      "Error: relation \"forecast\" does not exist\nLINE 1: INSERT INTO forecast(distrito,forecast_date,forecast_time,we...\n                    ^\n\n"
     ]
    },
    {
     "output_type": "execute_result",
     "data": {
      "text/plain": [
       "1"
      ]
     },
     "metadata": {},
     "execution_count": 50
    }
   ],
   "source": [
    "password = open(os.path.join('pw.txt'), 'r').readline()\n",
    "password = str(password)\n",
    "\n",
    "con = psycopg2.connect(dbname='meteo', user='postgres', password=password, host='localhost', port='5432')\n",
    "\n",
    "def dfToPgSQL(conn, df, table):\n",
    "    \"\"\"\n",
    "    Using psycopg2.extras.execute_values() to insert the dataframe\n",
    "    \"\"\"\n",
    "    # Create a list of tupples from the dataframe values\n",
    "    tuples = [tuple(x) for x in df.to_numpy()]\n",
    "    # Comma-separated dataframe columns\n",
    "    cols = ','.join(list(df.columns))\n",
    "    # SQL quert to execute\n",
    "    query  = \"INSERT INTO %s(%s) VALUES %%s\" % (table, cols)\n",
    "    cursor = conn.cursor()\n",
    "    try:\n",
    "        pgextras.execute_values(cursor, query, tuples)\n",
    "        conn.commit()\n",
    "    except (Exception, psycopg2.DatabaseError) as error:\n",
    "        print(\"Error: %s\" % error)\n",
    "        conn.rollback()\n",
    "        cursor.close()\n",
    "        return 1\n",
    "    print(\"execute_values() done\")\n",
    "    cursor.close()\n",
    "\n",
    "execute_values(con, forecast_df, 'forecast')"
   ]
  },
  {
   "cell_type": "code",
   "execution_count": null,
   "metadata": {},
   "outputs": [],
   "source": []
  }
 ],
 "metadata": {
  "kernelspec": {
   "display_name": "Python 3",
   "language": "python",
   "name": "python3"
  },
  "language_info": {
   "codemirror_mode": {
    "name": "ipython",
    "version": 3
   },
   "file_extension": ".py",
   "mimetype": "text/x-python",
   "name": "python",
   "nbconvert_exporter": "python",
   "pygments_lexer": "ipython3",
   "version": "3.8.8-final"
  }
 },
 "nbformat": 4,
 "nbformat_minor": 5
}