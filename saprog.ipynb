{
 "cells": [
  {
   "cell_type": "code",
   "execution_count": null,
   "id": "pharmaceutical-moore",
   "metadata": {},
   "outputs": [],
   "source": [
    "import os, urllib.request, json, shapefile, shutil, subprocess, csv, fiona, shapely, geopandas, pandas\n",
    "import psycopg2.extras as pgextras\n",
    "from osgeo import gdal, ogr, osr\n",
    "from datetime import datetime"
   ]
  },
  {
   "cell_type": "code",
   "execution_count": null,
   "id": "smooth-convergence",
   "metadata": {},
   "outputs": [],
   "source": [
    "os.environ['SHAPE_ENCODING'] = \"utf-8\"\n",
    "basePath = 'C:\\\\saprog\\\\projeto'\n",
    "outputPath = 'C:\\\\saprog\\\\projeto\\\\output'\n",
    "os.chdir(basePath)\n",
    "\n",
    "def deleteAndCreateOutput():\n",
    "    print ('A limpar e criar directoria de outputs...')\n",
    "    outDir = os.path.join(basePath, 'output')\n",
    "    if os.path.isdir(outDir):\n",
    "        shutil.rmtree(outDir)\n",
    "    os.mkdir(outDir)\n",
    "\n",
    "deleteAndCreateOutput()"
   ]
  },
  {
   "cell_type": "code",
   "execution_count": null,
   "id": "impaired-herald",
   "metadata": {},
   "outputs": [],
   "source": [
    "print('A ler shapefile...')\n",
    "caop = geopandas.read_file('caop.shp',encoding='utf-8')\n",
    "# caop.plot()\n",
    "# caop.head()\n",
    "# gdf = caop.loc[caop['Concelho'] == 'Bombarral']\n",
    "# gdf.head()"
   ]
  },
  {
   "cell_type": "code",
   "execution_count": null,
   "id": "painful-officer",
   "metadata": {},
   "outputs": [],
   "source": [
    "print('A executar Dissolve...')\n",
    "distritos = caop.dissolve(by = 'Distrito')\n",
    "# distritos.plot()\n",
    "# distritos.head(1)"
   ]
  },
  {
   "cell_type": "code",
   "execution_count": null,
   "id": "honey-communication",
   "metadata": {},
   "outputs": [],
   "source": [
    "print('A extrair centroides das regiões admninistrativas...')\n",
    "shpOutput = os.path.join(outputPath, 'centroides.shp')\n",
    "\n",
    "# dataProj = distritos.to_crs(epsg = 3763)\n",
    "# centroides = dataProj.centroid\n",
    "centroides = distritos.centroid\n",
    "centroides.to_file(shpOutput, encoding='utf-8')\n",
    "# centroides.plot()\n",
    "# centroides.head()"
   ]
  },
  {
   "cell_type": "code",
   "execution_count": null,
   "id": "according-thompson",
   "metadata": {},
   "outputs": [],
   "source": [
    "coordx = centroides.x.to_dict()\n",
    "coordy = centroides.y.to_dict()\n",
    "# print(coordx)\n",
    "# print(coordy)\n",
    "\n",
    "def getCoordinates(dicX, dicY):\n",
    "    coord = [dicX, dicY]\n",
    "    coordDic = {}\n",
    "    for i in dicX.keys():\n",
    "        coordDic[i] = tuple(coordDic[i] for coordDic in coord)\n",
    "    return coordDic\n",
    "\n",
    "print('A extrair coodenadas geográficas...')\n",
    "coord = getCoordinates(coordx, coordy)"
   ]
  },
  {
   "cell_type": "code",
   "execution_count": null,
   "id": "compressed-import",
   "metadata": {},
   "outputs": [],
   "source": [
    "# Carregamento de shapefile na bd\n",
    "# command = [\"C:\\\\OSGeo4W64\\\\bin\\\\ogr2ogr.exe\",\n",
    "#           \"-f\", \"PostgreSQL\",\n",
    "#           \"PG:host=localhost user=postgres dbname=meteo password=3763\",\n",
    "#           shpOutput,\n",
    "#           \"-lco\", \"GEOMETRY_NAME=the_geom\", \"-lco\", \"FID=gid\", \"-lco\",\n",
    "#           \" PRECISION=no\", \"-nlt\", \"PROMOTE_TO_MULTI\", \"-nln\", \"centroides\", \"-overwrite\"]\n",
    "# subprocess.check_call(command)"
   ]
  },
  {
   "cell_type": "code",
   "execution_count": 41,
   "id": "applicable-anthropology",
   "metadata": {},
   "outputs": [
    {
     "output_type": "execute_result",
     "data": {
      "text/plain": [
       "            distrito forecast_date forecast_time weather_desc  temperature  \\\n",
       "0             Aveiro    14-03-2021      17:38:12        Clear        14.70   \n",
       "1               Beja    14-03-2021      17:38:13        Clear        19.00   \n",
       "2              Braga    14-03-2021      17:38:13       Clouds        15.56   \n",
       "3           Bragança    14-03-2021      17:38:13       Clouds        11.91   \n",
       "4     Castelo Branco    14-03-2021      17:38:13        Clear        16.67   \n",
       "5            Coimbra    14-03-2021      17:38:14        Clear        15.25   \n",
       "6               Faro    14-03-2021      17:38:14        Clear        18.00   \n",
       "7             Guarda    14-03-2021      17:38:14        Clear        16.67   \n",
       "8             Leiria    14-03-2021      17:38:14        Clear        14.45   \n",
       "9             Lisboa    14-03-2021      17:38:15        Clear        15.48   \n",
       "10        Portalegre    14-03-2021      17:38:15        Clear        19.44   \n",
       "11             Porto    14-03-2021      17:38:15        Clear        15.56   \n",
       "12          Santarém    14-03-2021      17:38:15       Clouds        16.85   \n",
       "13           Setúbal    14-03-2021      17:38:16        Clear        16.12   \n",
       "14  Viana do Castelo    14-03-2021      17:38:16       Clouds        14.07   \n",
       "15         Vila Real    14-03-2021      17:38:16        Clear        13.45   \n",
       "16             Viseu    14-03-2021      17:38:17        Clear        16.67   \n",
       "\n",
       "    feels_like  pressure  humidity  dew_point  ultrav_index  wind_speed  \\\n",
       "0         8.91      1026        72       9.71          0.00        8.23   \n",
       "1        15.15      1024        42       5.81          0.00        4.12   \n",
       "2        13.08      1026        53       6.03          0.00        2.23   \n",
       "3        10.22      1025        65       5.55          0.00        0.96   \n",
       "4        13.23      1025        44       4.37          0.00        3.13   \n",
       "5         9.31      1026        67       9.17          0.00        8.23   \n",
       "6        15.85      1022        59       9.88          0.10        3.09   \n",
       "7        13.23      1025        44       4.37          0.00        3.13   \n",
       "8         8.32      1026        67       8.41          0.10        8.23   \n",
       "9        10.73      1023        41       2.30          0.11        4.47   \n",
       "10       18.35      1022        52       9.34          0.00        1.36   \n",
       "11       15.26      1027        69       9.90          0.00        0.45   \n",
       "12       15.83      1027        57       8.29          0.00        0.89   \n",
       "13       11.84      1024        55       7.09          0.11        5.14   \n",
       "14       12.08      1028        72       9.11          0.00        2.57   \n",
       "15        9.59      1034        15     -11.30          0.00        0.89   \n",
       "16       13.23      1025        44       4.37          0.00        3.13   \n",
       "\n",
       "    wind_deg  \n",
       "0        350  \n",
       "1         20  \n",
       "2        351  \n",
       "3        353  \n",
       "4         76  \n",
       "5        360  \n",
       "6        250  \n",
       "7         76  \n",
       "8        360  \n",
       "9         16  \n",
       "10        57  \n",
       "11       293  \n",
       "12         0  \n",
       "13       360  \n",
       "14       360  \n",
       "15       166  \n",
       "16        76  "
      ],
      "text/html": "<div>\n<style scoped>\n    .dataframe tbody tr th:only-of-type {\n        vertical-align: middle;\n    }\n\n    .dataframe tbody tr th {\n        vertical-align: top;\n    }\n\n    .dataframe thead th {\n        text-align: right;\n    }\n</style>\n<table border=\"1\" class=\"dataframe\">\n  <thead>\n    <tr style=\"text-align: right;\">\n      <th></th>\n      <th>distrito</th>\n      <th>forecast_date</th>\n      <th>forecast_time</th>\n      <th>weather_desc</th>\n      <th>temperature</th>\n      <th>feels_like</th>\n      <th>pressure</th>\n      <th>humidity</th>\n      <th>dew_point</th>\n      <th>ultrav_index</th>\n      <th>wind_speed</th>\n      <th>wind_deg</th>\n    </tr>\n  </thead>\n  <tbody>\n    <tr>\n      <th>0</th>\n      <td>Aveiro</td>\n      <td>14-03-2021</td>\n      <td>17:38:12</td>\n      <td>Clear</td>\n      <td>14.70</td>\n      <td>8.91</td>\n      <td>1026</td>\n      <td>72</td>\n      <td>9.71</td>\n      <td>0.00</td>\n      <td>8.23</td>\n      <td>350</td>\n    </tr>\n    <tr>\n      <th>1</th>\n      <td>Beja</td>\n      <td>14-03-2021</td>\n      <td>17:38:13</td>\n      <td>Clear</td>\n      <td>19.00</td>\n      <td>15.15</td>\n      <td>1024</td>\n      <td>42</td>\n      <td>5.81</td>\n      <td>0.00</td>\n      <td>4.12</td>\n      <td>20</td>\n    </tr>\n    <tr>\n      <th>2</th>\n      <td>Braga</td>\n      <td>14-03-2021</td>\n      <td>17:38:13</td>\n      <td>Clouds</td>\n      <td>15.56</td>\n      <td>13.08</td>\n      <td>1026</td>\n      <td>53</td>\n      <td>6.03</td>\n      <td>0.00</td>\n      <td>2.23</td>\n      <td>351</td>\n    </tr>\n    <tr>\n      <th>3</th>\n      <td>Bragança</td>\n      <td>14-03-2021</td>\n      <td>17:38:13</td>\n      <td>Clouds</td>\n      <td>11.91</td>\n      <td>10.22</td>\n      <td>1025</td>\n      <td>65</td>\n      <td>5.55</td>\n      <td>0.00</td>\n      <td>0.96</td>\n      <td>353</td>\n    </tr>\n    <tr>\n      <th>4</th>\n      <td>Castelo Branco</td>\n      <td>14-03-2021</td>\n      <td>17:38:13</td>\n      <td>Clear</td>\n      <td>16.67</td>\n      <td>13.23</td>\n      <td>1025</td>\n      <td>44</td>\n      <td>4.37</td>\n      <td>0.00</td>\n      <td>3.13</td>\n      <td>76</td>\n    </tr>\n    <tr>\n      <th>5</th>\n      <td>Coimbra</td>\n      <td>14-03-2021</td>\n      <td>17:38:14</td>\n      <td>Clear</td>\n      <td>15.25</td>\n      <td>9.31</td>\n      <td>1026</td>\n      <td>67</td>\n      <td>9.17</td>\n      <td>0.00</td>\n      <td>8.23</td>\n      <td>360</td>\n    </tr>\n    <tr>\n      <th>6</th>\n      <td>Faro</td>\n      <td>14-03-2021</td>\n      <td>17:38:14</td>\n      <td>Clear</td>\n      <td>18.00</td>\n      <td>15.85</td>\n      <td>1022</td>\n      <td>59</td>\n      <td>9.88</td>\n      <td>0.10</td>\n      <td>3.09</td>\n      <td>250</td>\n    </tr>\n    <tr>\n      <th>7</th>\n      <td>Guarda</td>\n      <td>14-03-2021</td>\n      <td>17:38:14</td>\n      <td>Clear</td>\n      <td>16.67</td>\n      <td>13.23</td>\n      <td>1025</td>\n      <td>44</td>\n      <td>4.37</td>\n      <td>0.00</td>\n      <td>3.13</td>\n      <td>76</td>\n    </tr>\n    <tr>\n      <th>8</th>\n      <td>Leiria</td>\n      <td>14-03-2021</td>\n      <td>17:38:14</td>\n      <td>Clear</td>\n      <td>14.45</td>\n      <td>8.32</td>\n      <td>1026</td>\n      <td>67</td>\n      <td>8.41</td>\n      <td>0.10</td>\n      <td>8.23</td>\n      <td>360</td>\n    </tr>\n    <tr>\n      <th>9</th>\n      <td>Lisboa</td>\n      <td>14-03-2021</td>\n      <td>17:38:15</td>\n      <td>Clear</td>\n      <td>15.48</td>\n      <td>10.73</td>\n      <td>1023</td>\n      <td>41</td>\n      <td>2.30</td>\n      <td>0.11</td>\n      <td>4.47</td>\n      <td>16</td>\n    </tr>\n    <tr>\n      <th>10</th>\n      <td>Portalegre</td>\n      <td>14-03-2021</td>\n      <td>17:38:15</td>\n      <td>Clear</td>\n      <td>19.44</td>\n      <td>18.35</td>\n      <td>1022</td>\n      <td>52</td>\n      <td>9.34</td>\n      <td>0.00</td>\n      <td>1.36</td>\n      <td>57</td>\n    </tr>\n    <tr>\n      <th>11</th>\n      <td>Porto</td>\n      <td>14-03-2021</td>\n      <td>17:38:15</td>\n      <td>Clear</td>\n      <td>15.56</td>\n      <td>15.26</td>\n      <td>1027</td>\n      <td>69</td>\n      <td>9.90</td>\n      <td>0.00</td>\n      <td>0.45</td>\n      <td>293</td>\n    </tr>\n    <tr>\n      <th>12</th>\n      <td>Santarém</td>\n      <td>14-03-2021</td>\n      <td>17:38:15</td>\n      <td>Clouds</td>\n      <td>16.85</td>\n      <td>15.83</td>\n      <td>1027</td>\n      <td>57</td>\n      <td>8.29</td>\n      <td>0.00</td>\n      <td>0.89</td>\n      <td>0</td>\n    </tr>\n    <tr>\n      <th>13</th>\n      <td>Setúbal</td>\n      <td>14-03-2021</td>\n      <td>17:38:16</td>\n      <td>Clear</td>\n      <td>16.12</td>\n      <td>11.84</td>\n      <td>1024</td>\n      <td>55</td>\n      <td>7.09</td>\n      <td>0.11</td>\n      <td>5.14</td>\n      <td>360</td>\n    </tr>\n    <tr>\n      <th>14</th>\n      <td>Viana do Castelo</td>\n      <td>14-03-2021</td>\n      <td>17:38:16</td>\n      <td>Clouds</td>\n      <td>14.07</td>\n      <td>12.08</td>\n      <td>1028</td>\n      <td>72</td>\n      <td>9.11</td>\n      <td>0.00</td>\n      <td>2.57</td>\n      <td>360</td>\n    </tr>\n    <tr>\n      <th>15</th>\n      <td>Vila Real</td>\n      <td>14-03-2021</td>\n      <td>17:38:16</td>\n      <td>Clear</td>\n      <td>13.45</td>\n      <td>9.59</td>\n      <td>1034</td>\n      <td>15</td>\n      <td>-11.30</td>\n      <td>0.00</td>\n      <td>0.89</td>\n      <td>166</td>\n    </tr>\n    <tr>\n      <th>16</th>\n      <td>Viseu</td>\n      <td>14-03-2021</td>\n      <td>17:38:17</td>\n      <td>Clear</td>\n      <td>16.67</td>\n      <td>13.23</td>\n      <td>1025</td>\n      <td>44</td>\n      <td>4.37</td>\n      <td>0.00</td>\n      <td>3.13</td>\n      <td>76</td>\n    </tr>\n  </tbody>\n</table>\n</div>"
     },
     "metadata": {},
     "execution_count": 41
    }
   ],
   "source": [
    "apiKey = '44cfad7f82ec61d3f420de3201b703d4'\n",
    "\n",
    "def getWeather(coordDic, apikey):\n",
    "    forecast = []\n",
    "    for item in coord.items():\n",
    "        lat = str(item[1][1])\n",
    "        long = str(item[1][0])\n",
    "        url = 'https://api.openweathermap.org/data/2.5/onecall?lat=' + lat + '&lon=' + long + \\\n",
    "            '&exclude=minutely,hourly,daily,alerts&appid=' + apiKey + '&units=metric'\n",
    "        with urllib.request.urlopen(url) as url:\n",
    "            data = json.loads(url.read().decode())\n",
    "            districtForecast = {}\n",
    "            districtForecast['distrito'] = item[0]\n",
    "            districtForecast['forecast_date'] = datetime.utcfromtimestamp(data.get('current').get('dt')).strftime('%d-%m-%Y')\n",
    "            districtForecast['forecast_time'] = datetime.utcfromtimestamp(data.get('current').get('dt')).strftime('%H:%M:%S')\n",
    "            main = data.get('current').get('weather')\n",
    "            for item in main:\n",
    "                districtForecast['weather_desc'] = item.get('main')\n",
    "            districtForecast['temperature'] = data.get('current').get('temp')\n",
    "            districtForecast['feels_like'] = data.get('current').get('feels_like')\n",
    "            districtForecast['pressure'] = data.get('current').get('pressure')\n",
    "            districtForecast['humidity'] = data.get('current').get('humidity')\n",
    "            districtForecast['dew_point'] = data.get('current').get('dew_point')\n",
    "            districtForecast['ultrav_index'] = data.get('current').get('uvi')\n",
    "            districtForecast['wind_speed'] = data.get('current').get('wind_speed')\n",
    "            districtForecast['wind_deg'] = data.get('current').get('wind_deg')\n",
    "            forecast.append(districtForecast)\n",
    "    return forecast\n",
    "\n",
    "forecast_df = pandas.DataFrame(getWeather(coord, apiKey))\n",
    "forecast_df.head(-1)"
   ]
  },
  {
   "cell_type": "code",
   "execution_count": 42,
   "metadata": {},
   "outputs": [
    {
     "output_type": "stream",
     "name": "stdout",
     "text": [
      "execute_values() done\n"
     ]
    }
   ],
   "source": [
    "password = open(basePath+'\\\\pw.txt', 'r').readline()\n",
    "# password = str(password)\n",
    "\n",
    "con = psycopg2.connect(dbname='meteo', user='postgres', password=password, host='localhost', port='5432')\n",
    "\n",
    "def dfToPgSQL(conn, df, table):\n",
    "    \"\"\"\n",
    "    Using psycopg2.extras.execute_values() to insert the dataframe\n",
    "    \"\"\"\n",
    "    # Create a list of tupples from the dataframe values\n",
    "    tuples = [tuple(x) for x in df.to_numpy()]\n",
    "    # Comma-separated dataframe columns\n",
    "    cols = ','.join(list(df.columns))\n",
    "    # SQL quert to execute\n",
    "    query  = \"INSERT INTO %s(%s) VALUES %%s\" % (table, cols)\n",
    "    cursor = conn.cursor()\n",
    "    try:\n",
    "        pgextras.execute_values(cursor, query, tuples)\n",
    "        conn.commit()\n",
    "    except (Exception, psycopg2.DatabaseError) as error:\n",
    "        print(\"Error: %s\" % error)\n",
    "        conn.rollback()\n",
    "        cursor.close()\n",
    "        return 1\n",
    "    print(\"execute_values() done\")\n",
    "    cursor.close()\n",
    "\n",
    "execute_values(con, forecast_df, 'forecast')"
   ]
  },
  {
   "cell_type": "code",
   "execution_count": null,
   "metadata": {},
   "outputs": [],
   "source": []
  }
 ],
 "metadata": {
  "kernelspec": {
   "display_name": "Python 3",
   "language": "python",
   "name": "python3"
  },
  "language_info": {
   "codemirror_mode": {
    "name": "ipython",
    "version": 3
   },
   "file_extension": ".py",
   "mimetype": "text/x-python",
   "name": "python",
   "nbconvert_exporter": "python",
   "pygments_lexer": "ipython3",
   "version": "3.8.8-final"
  }
 },
 "nbformat": 4,
 "nbformat_minor": 5
}