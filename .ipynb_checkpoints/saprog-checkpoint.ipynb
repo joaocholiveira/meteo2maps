{
 "cells": [
  {
   "cell_type": "code",
   "execution_count": null,
   "id": "herbal-zoning",
   "metadata": {},
   "outputs": [],
   "source": [
    "import os, urllib.request, json, shapefile, shutil, subprocess, csv, fiona, shapely, geopandas, psycopg2\n",
    "from osgeo import gdal, ogr, osr\n",
    "from datetime import datetime"
   ]
  },
  {
   "cell_type": "code",
   "execution_count": null,
   "id": "cognitive-groove",
   "metadata": {},
   "outputs": [],
   "source": [
    "os.environ['SHAPE_ENCODING'] = \"utf-8\"\n",
    "basePath = 'C:\\\\saprog\\\\projeto'\n",
    "outputPath = 'C:\\\\saprog\\\\projeto\\\\output'\n",
    "os.chdir(basePath)\n",
    "\n",
    "def deleteAndCreateOutput():\n",
    "    print ('A limpar e criar directoria de outputs')\n",
    "    outDir = os.path.join(basePath, 'output')\n",
    "    if os.path.isdir(outDir):\n",
    "        shutil.rmtree(outDir)\n",
    "    os.mkdir(outDir)\n",
    "\n",
    "deleteAndCreateOutput()"
   ]
  },
  {
   "cell_type": "code",
   "execution_count": null,
   "id": "latin-genre",
   "metadata": {},
   "outputs": [],
   "source": [
    "caop = geopandas.read_file('caop.shp',encoding='utf-8')\n",
    "# caop.plot()\n",
    "# caop.head()\n",
    "# gdf = caop.loc[caop['Concelho'] == 'Bombarral']\n",
    "# gdf.head()"
   ]
  },
  {
   "cell_type": "code",
   "execution_count": null,
   "id": "dimensional-better",
   "metadata": {},
   "outputs": [],
   "source": [
    "distritos = caop.dissolve(by = 'Distrito')\n",
    "# distritos.plot()\n",
    "distritos.head(1)"
   ]
  },
  {
   "cell_type": "code",
   "execution_count": null,
   "id": "scheduled-production",
   "metadata": {},
   "outputs": [],
   "source": [
    "shpOutput = os.path.join(outputPath, 'centroides.shp')\n",
    "\n",
    "# dataProj = distritos.to_crs(epsg = 3763)\n",
    "# centroides = dataProj.centroid\n",
    "centroides = distritos.centroid\n",
    "centroides.to_file(shpOutput, encoding='utf-8')\n",
    "# centroides.plot()\n",
    "centroides.head()"
   ]
  },
  {
   "cell_type": "code",
   "execution_count": null,
   "id": "speaking-fleece",
   "metadata": {},
   "outputs": [],
   "source": [
    "coordx = centroides.x.to_dict()\n",
    "coordy = centroides.y.to_dict()\n",
    "# print(coordx)\n",
    "# print(coordy)\n",
    "\n",
    "def getCoordinates(dicX, dicY):\n",
    "    coord = [dicX, dicY]\n",
    "    coordDic = {}\n",
    "    for i in dicX.keys():\n",
    "        coordDic[i] = tuple(coordDic[i] for coordDic in coord)\n",
    "    return coordDic\n",
    "\n",
    "coord = getCoordinates(coordx, coordy)\n",
    "print(coord)"
   ]
  },
  {
   "cell_type": "code",
   "execution_count": null,
   "id": "centered-circus",
   "metadata": {},
   "outputs": [],
   "source": [
    "# Carregamento de shapefile na bd\n",
    "# command = [\"C:\\\\OSGeo4W64\\\\bin\\\\ogr2ogr.exe\",\n",
    "#           \"-f\", \"PostgreSQL\",\n",
    "#           \"PG:host=localhost user=postgres dbname=meteo password=3763\",\n",
    "#           shpOutput,\n",
    "#           \"-lco\", \"GEOMETRY_NAME=the_geom\", \"-lco\", \"FID=gid\", \"-lco\",\n",
    "#           \" PRECISION=no\", \"-nlt\", \"PROMOTE_TO_MULTI\", \"-nln\", \"centroides\", \"-overwrite\"]\n",
    "# subprocess.check_call(command)"
   ]
  },
  {
   "cell_type": "code",
   "execution_count": null,
   "id": "according-lightning",
   "metadata": {},
   "outputs": [],
   "source": [
    "apiKey = '44cfad7f82ec61d3f420de3201b703d4'\n",
    "\n",
    "def getWeather(coordDic, apikey):\n",
    "    forecast = []\n",
    "    for i in coord.items():\n",
    "        lat = str(i[1][1])\n",
    "        long = str(i[1][0])\n",
    "        url = 'https://api.openweathermap.org/data/2.5/onecall?lat=' + lat + '&lon=' + long + \\\n",
    "            '&exclude=minutely,hourly,daily,alerts&appid=' + apikey + '&units=metric'\n",
    "        with urllib.request.urlopen(url) as url:\n",
    "            data = json.loads(url.read().decode())\n",
    "            forecast.append(i[0])\n",
    "            forecast.append(data)\n",
    "    return forecast\n",
    "\n",
    "print(getWeather(coord, apiKey))"
   ]
  },
  {
   "cell_type": "code",
   "execution_count": null,
   "id": "industrial-plumbing",
   "metadata": {},
   "outputs": [],
   "source": []
  }
 ],
 "metadata": {
  "kernelspec": {
   "display_name": "Python 3",
   "language": "python",
   "name": "python3"
  },
  "language_info": {
   "codemirror_mode": {
    "name": "ipython",
    "version": 3
   },
   "file_extension": ".py",
   "mimetype": "text/x-python",
   "name": "python",
   "nbconvert_exporter": "python",
   "pygments_lexer": "ipython3",
   "version": "3.8.8"
  }
 },
 "nbformat": 4,
 "nbformat_minor": 5
}
